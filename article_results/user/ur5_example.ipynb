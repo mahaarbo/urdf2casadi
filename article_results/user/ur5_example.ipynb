{
 "cells": [
  {
   "cell_type": "code",
   "execution_count": 1,
   "metadata": {},
   "outputs": [],
   "source": [
    "import urdf2casadi.urdfparser as u2c\n",
    "import numpy as np"
   ]
  },
  {
   "cell_type": "markdown",
   "metadata": {},
   "source": [
    "## 1. Load robot from urdf \n",
    "\n",
    "1. Create urdfparser-class instance. \n",
    "2. Load model to instance, either from file, string or ros parameter server. Examples uses from file. "
   ]
  },
  {
   "cell_type": "code",
   "execution_count": 2,
   "metadata": {},
   "outputs": [],
   "source": [
    "ur5 = u2c.URDFparser()\n",
    "ur5.from_file(\"../urdf/ur5_mod.urdf\")"
   ]
  },
  {
   "cell_type": "markdown",
   "metadata": {},
   "source": [
    "## 2. Get joint information ? \n",
    "Information about the joints of the robot model can be obtained using u2c's get_joint_info(). \"root\" and \"tip\" are the inputs, and represent the link names for the root and tip of the kinematic tree one wishes to evaluate. "
   ]
  },
  {
   "cell_type": "code",
   "execution_count": 3,
   "metadata": {},
   "outputs": [
    {
     "name": "stdout",
     "output_type": "stream",
     "text": [
      "('name of first joint:', 'shoulder_pan_joint', '\\n')\n",
      "('joint information for first joint:\\n', <urdf_parser_py.urdf.Joint object at 0x7f84f1735b90>)\n",
      "('\\n q max:', [6.28318530718, 6.28318530718, 3.14159265359, 6.28318530718, 6.28318530718, 6.28318530718])\n",
      "('\\n q min:', [-6.28318530718, -6.28318530718, -3.14159265359, -6.28318530718, -6.28318530718, -6.28318530718])\n"
     ]
    }
   ],
   "source": [
    "root = \"base_link\"\n",
    "tip = \"tool0\"\n",
    "\n",
    "joint_list, joint_names, q_max, q_min = ur5.get_joint_info(root, tip)\n",
    "n_joints = ur5.get_n_joints(root, tip)\n",
    "print(\"name of first joint:\", joint_names[0], \"\\n\")\n",
    "print(\"joint information for first joint:\\n\", joint_list[0])\n",
    "print(\"\\n q max:\", q_max)\n",
    "print(\"\\n q min:\", q_min)"
   ]
  },
  {
   "cell_type": "markdown",
   "metadata": {},
   "source": [
    "# 3. Obtain robot dynamics! \n",
    "After loading the robot model to the urdfparser-instance, the robot dynamics can be obtained from any given root and tip of the robot. \n",
    "\n",
    "## Dynamic parameters:\n",
    "To obtain the dynamic parameters (M, C, G) of the equation of motion $\\tau = M(q)\\ddot{q} + C(q, \\dot{q}) + G(q)$ we use the recursive Newton-Euler algorithm has defined by Roy Featherstone in \"Rigid Body Dynamics Algorithms\" (2008). The algorithm calculates $\\tau = M(q)\\ddot{q} + C_2(q,\\dot{q})$ where $C_2$ is a bias term containing both the coriolis and gravitational effect. From this we can obtain:\n",
    " \n",
    " 1. Coriolis vector term $C(q,\\dot{q})\\dot{q}$ by setting $\\ddot{q}=0$ and gravity to zero.\n",
    " 2. Gravity term $G(q)$ by setting $\\ddot{q}=0$ and $\\dot{q}=0$\n",
    "\n",
    "The inertia matrix $M$ is obtained using the composite rigid body algorithm.\n"
   ]
  },
  {
   "cell_type": "code",
   "execution_count": 4,
   "metadata": {},
   "outputs": [],
   "source": [
    "M_sym = ur5.get_inertia_matrix_crba(root, tip)\n",
    "C_sym = ur5.get_coriolis_rnea(root, tip)\n",
    "\n",
    "gravity = [0, 0, -9.81]\n",
    "G_sym = ur5.get_gravity_rnea(root, tip, gravity)"
   ]
  },
  {
   "cell_type": "markdown",
   "metadata": {},
   "source": [
    "M_sym, C_sym, G_sym are CasADi symbolic expressions of the ur5's dynamic parameters from given root to tip. The CasADi expressions are C-code generated so they can be numerically evaluated efficiently. Example of numerical evaluation is shown below. "
   ]
  },
  {
   "cell_type": "code",
   "execution_count": 5,
   "metadata": {},
   "outputs": [
    {
     "name": "stdout",
     "output_type": "stream",
     "text": [
      "('Numerical Inertia Matrx for random input: \\n', DM(\n",
      "[[1.09257, -0.453621, -0.0473821, 0.00480124, 0.11146, -0.0197971], \n",
      " [-0.453621, 3.82824, 1.47443, 0.293597, 0.0131002, -0.0459968], \n",
      " [-0.0473821, 1.47443, 0.924691, 0.287371, 0.00974189, -0.0459968], \n",
      " [0.00480124, 0.293597, 0.287371, 0.274613, 0.00446318, -0.0459968], \n",
      " [0.11146, 0.0131002, 0.00974189, 0.00446318, 0.267347, 7.03801e-14], \n",
      " [-0.0197971, -0.0459968, -0.0459968, -0.0459968, 7.03801e-14, 0.0509585]]))\n",
      "('\\nNumerical Coriolis term for random input: \\n', DM([7.55009, 2.70265, 0.717034, 1.27154, -1.74745, -0.877236]))\n",
      "('\\nNumerical gravity term for random input: \\n', DM([-4.44089e-16, 19.6582, 12.7456, 0.343061, 0.123597, 0]))\n"
     ]
    }
   ],
   "source": [
    "q = [None]*n_joints\n",
    "q_dot = [None]*n_joints\n",
    "for i in range(n_joints):\n",
    "    #to make sure the inputs are within the robot's limits:\n",
    "    q[i] = (q_max[i] - q_min[i])*np.random.rand()-(q_max[i] - q_min[i])/2\n",
    "    q_dot[i] = (q_max[i] - q_min[i])*np.random.rand()-(q_max[i] - q_min[i])/2\n",
    "    \n",
    "M_num = M_sym(q)\n",
    "C_num = C_sym(q, q_dot)\n",
    "G_num = G_sym(q)\n",
    "print(\"Numerical Inertia Matrx for random input: \\n\", M_num)\n",
    "print(\"\\nNumerical Coriolis term for random input: \\n\", C_num) \n",
    "print(\"\\nNumerical gravity term for random input: \\n\", G_num)"
   ]
  },
  {
   "cell_type": "markdown",
   "metadata": {},
   "source": [
    "## Inverse Dynamics \n",
    "\n",
    "Without accounting for gravitational forces:"
   ]
  },
  {
   "cell_type": "code",
   "execution_count": 6,
   "metadata": {},
   "outputs": [],
   "source": [
    "tau_sym = ur5.get_inverse_dynamics_rnea(root, tip)"
   ]
  },
  {
   "cell_type": "markdown",
   "metadata": {},
   "source": [
    "Accounting for gravitational forces:"
   ]
  },
  {
   "cell_type": "code",
   "execution_count": 7,
   "metadata": {},
   "outputs": [],
   "source": [
    "gravity = [0, 0, -9.81]\n",
    "tau_g_sym = ur5.get_inverse_dynamics_rnea(root, tip, gravity = gravity)"
   ]
  },
  {
   "cell_type": "markdown",
   "metadata": {},
   "source": [
    "External forces can also be accounted for:"
   ]
  },
  {
   "cell_type": "code",
   "execution_count": 8,
   "metadata": {},
   "outputs": [
    {
     "name": "stdout",
     "output_type": "stream",
     "text": [
      "('Numerical inverse dynamics: \\n', DM([-96.17, -12.216, 11.362, -4.41366, 5.14929, 1.61354]))\n",
      "('\\nNumerical inverse dynamics w/ gravity: \\n', DM([-96.17, 23.3835, 16.3076, -4.04944, 5.24458, 1.61354]))\n"
     ]
    }
   ],
   "source": [
    "q = [None]*n_joints\n",
    "q_dot = [None]*n_joints\n",
    "q_ddot = [None]*n_joints\n",
    "for i in range(n_joints):\n",
    "    #to make sure the inputs are within the robot's limits:\n",
    "    q[i] = (q_max[i] - q_min[i])*np.random.rand()-(q_max[i] - q_min[i])/2\n",
    "    q_dot[i] = (q_max[i] - q_min[i])*np.random.rand()-(q_max[i] - q_min[i])/2\n",
    "    q_ddot[i] = (q_max[i] - q_min[i])*np.random.rand()-(q_max[i] - q_min[i])/2\n",
    "\n",
    "tau_num = tau_sym(q, q_dot, q_ddot)\n",
    "tau_g_num = tau_g_sym(q, q_dot, q_ddot)\n",
    "#tau_fext_num = tau_fext_sym(q, q_dot, q_ddot)\n",
    "print(\"Numerical inverse dynamics: \\n\", tau_num)\n",
    "print(\"\\nNumerical inverse dynamics w/ gravity: \\n\", tau_g_num)\n",
    "#print \"\\nNumerical inverse dynamics w/ external forces: \\n\", G_num"
   ]
  },
  {
   "cell_type": "markdown",
   "metadata": {},
   "source": [
    "## Forward Dynamics\n",
    "\n",
    "urdf2casadi provides two methods for finding the robot's forward dynamics. The first method combines the recursive Newton-Euler algorithm (RNEA) and the composite rigid body algorithm (CRBA) and solves the equation of motion for the joint accelerations. The second method uses the articulated body algorithm (ABA) for forward dynamics. The method that uses ABA is in most cases the most efficient with regard to numerical evaluation, especially if the number of joints are high. (See timing examples for more information.)"
   ]
  },
  {
   "cell_type": "code",
   "execution_count": 9,
   "metadata": {},
   "outputs": [],
   "source": [
    "tau = np.zeros(n_joints)\n",
    "qddot_sym = ur5.get_forward_dynamics_crba(root, tip)"
   ]
  },
  {
   "cell_type": "code",
   "execution_count": 10,
   "metadata": {},
   "outputs": [],
   "source": [
    "qddot_g_sym = ur5.get_forward_dynamics_aba(root, tip, gravity = gravity)\n"
   ]
  },
  {
   "cell_type": "code",
   "execution_count": 11,
   "metadata": {},
   "outputs": [
    {
     "name": "stdout",
     "output_type": "stream",
     "text": [
      "('Numerical inverse dynamics: \\n', DM([8.15793, -1.15656, -3.51586, 10.9678, 1.92249, 2.83943]))\n",
      "('\\nNumerical inverse dynamics w/ gravity: \\n', DM([5.20655, -7.34934, -2.54867, 14.7943, 1.85131, 4.42794]))\n"
     ]
    }
   ],
   "source": [
    "q = [None]*n_joints\n",
    "q_dot = [None]*n_joints\n",
    "for i in range(n_joints):\n",
    "    #to make sure the inputs are within the robot's limits:\n",
    "    q[i] = (q_max[i] - q_min[i])*np.random.rand()-(q_max[i] - q_min[i])/2\n",
    "    q_dot[i] = (q_max[i] - q_min[i])*np.random.rand()-(q_max[i] - q_min[i])/2\n",
    "\n",
    "qddot_num = qddot_sym(q, q_dot, tau)\n",
    "qddot_g_num = qddot_g_sym(q, q_dot, tau)\n",
    "\n",
    "print(\"Numerical inverse dynamics: \\n\", qddot_num)\n",
    "print(\"\\nNumerical inverse dynamics w/ gravity: \\n\", qddot_g_num)"
   ]
  },
  {
   "cell_type": "markdown",
   "metadata": {},
   "source": [
    "# 4. Obtain the Derivatives \n",
    "\n",
    "From the dynamics functions, their derivatives can easily be obtained using CasADi`s built-in Jacobian functionality. The user can choose to find the derivative with regard to those variables needed (cs.jacobian()), or to find the time derivative with regard to these variables (cs.jtimes()), i.e the Jacobian times the time derivative of the variables.\n",
    "\n",
    "If one are to find the time derivative, jtimes() is recommended over first obtaining the Jacobian, as jtimes() shortens the expressions, thus making the evaluation time of the expressions more efficient. \n",
    "\n",
    "Examples for obtaining the derivatives for the inverse dynamics, using both jacobian() and jtimes() are shown below:\n",
    "\n",
    "## cs.jacobian()\n",
    "\n",
    "The following explains how to use CasADi to obtain the derivative of the inverse dynamics with respect to q, qdot, and qddot, using the symbolic function returned by urdf2casadi (tau_sym):\n",
    "\n",
    "\n",
    "1. Import CasADi and declare the symbolic variables needed in the derivative expression. "
   ]
  },
  {
   "cell_type": "code",
   "execution_count": 12,
   "metadata": {},
   "outputs": [],
   "source": [
    "import casadi as cs\n",
    "\n",
    "q_sym =cs.SX.sym(\"qs\", n_joints)\n",
    "qdot_sym =cs.SX.sym(\"qsdot\", n_joints)\n",
    "qddot_sym =cs.SX.sym(\"qsddot\", n_joints)"
   ]
  },
  {
   "cell_type": "markdown",
   "metadata": {},
   "source": [
    "2. Declare the vector of the variables to find the derivatives with respect to using cs.vertcat():"
   ]
  },
  {
   "cell_type": "code",
   "execution_count": 13,
   "metadata": {},
   "outputs": [
    {
     "name": "stdout",
     "output_type": "stream",
     "text": [
      "[qs_0, qs_1, qs_2, qs_3, qs_4, qs_5, qsdot_0, qsdot_1, qsdot_2, qsdot_3, qsdot_4, qsdot_5, qsddot_0, qsddot_1, qsddot_2, qsddot_3, qsddot_4, qsddot_5]\n"
     ]
    }
   ],
   "source": [
    "id_vec = cs.vertcat(q_sym, qdot_sym, qddot_sym)\n",
    "print(id_vec)"
   ]
  },
  {
   "cell_type": "markdown",
   "metadata": {},
   "source": [
    "3. Obtain the symbolic expression of the derivative of ID with respect to q, qdot, and qddot using cs.jacobian():"
   ]
  },
  {
   "cell_type": "code",
   "execution_count": 14,
   "metadata": {},
   "outputs": [],
   "source": [
    "derivative_id_expression = cs.jacobian(tau_sym(q_sym, qdot_sym, qddot_sym), id_vec)"
   ]
  },
  {
   "cell_type": "markdown",
   "metadata": {},
   "source": [
    "4. Use the symbolic expression to make a CasADi function that can be efficiently numerical evaluated:"
   ]
  },
  {
   "cell_type": "code",
   "execution_count": 15,
   "metadata": {},
   "outputs": [],
   "source": [
    "derivative_id_function  = cs.Function(\"did\", [q_sym, qdot_sym, qddot_sym], [derivative_id_expression], {\"jit\": True, \"jit_options\":{\"flags\":\"-Ofast\"}})"
   ]
  },
  {
   "cell_type": "markdown",
   "metadata": {},
   "source": [
    "where -Ofast flag is used to C-code generate the function. The derivative function can then be numerically evaluated similar to the functions returned by urdf2casadi, as illustrated in the above. For instance:"
   ]
  },
  {
   "cell_type": "code",
   "execution_count": 16,
   "metadata": {},
   "outputs": [
    {
     "name": "stdout",
     "output_type": "stream",
     "text": [
      "\n",
      "[[00, 3.47485, 0.783458, -1.88474, 0.103683, -0.174549, -1.41623, -0.896139, -0.234738, 0.128601, 0.0810386, 0.0776548, 0.986864, 0.436166, 0.0821034, 0.00166266, 0.258027, -0.00605124], \n",
      " [00, -1.88078, -3.49342, 0.548254, -0.156966, -0.0290333, 1.18932, -1.20679, -2.4005, -0.0553704, -0.10926, -0.0637559, 0.436166, 3.42078, 1.24872, 0.249093, 0.0115794, 0.027533], \n",
      " [00, -0.661822, -0.358749, 0.406655, -0.115436, -0.0290333, 0.0825389, 1.18105, -0.0126542, -0.0599878, -0.0810284, -0.0637559, 0.0821034, 1.24872, 0.88072, 0.26514, 0.00835043, 0.027533], \n",
      " [00, 0.465165, 0.438444, 0.366942, -0.0587761, -0.0290333, -0.12426, 0.0522804, 0.0548047, 0.00747109, -0.0737805, -0.0637559, 0.00166266, 0.249093, 0.26514, 0.274123, 0.00559261, 0.027533], \n",
      " [00, -0.769908, -0.775828, -0.75445, 0.11017, -0.143756, 0.0993527, 0.0872177, 0.0749549, 0.0727555, -0.0151721, 0.0842753, 0.258027, 0.0115794, 0.00835043, 0.00559261, 0.259837, 4.41439e-14], \n",
      " [00, 0.108386, 0.108386, 0.108386, -0.165816, 0.176506, 0.16928, -0.0220042, -0.0220042, -0.0220042, -0.0842753, 0, -0.00605124, 0.027533, 0.027533, 0.027533, 4.41439e-14, 0.0509585]]\n"
     ]
    }
   ],
   "source": [
    "print(derivative_id_function(np.ones(n_joints), np.ones(n_joints), np.ones(n_joints)))"
   ]
  },
  {
   "cell_type": "markdown",
   "metadata": {},
   "source": [
    "\n",
    "One can also find the derivative with respect to just one variable:\n"
   ]
  },
  {
   "cell_type": "code",
   "execution_count": 17,
   "metadata": {},
   "outputs": [
    {
     "name": "stdout",
     "output_type": "stream",
     "text": [
      "\n",
      "[[00, 3.47485, 0.783458, -1.88474, 0.103683, -0.174549], \n",
      " [00, -1.88078, -3.49342, 0.548254, -0.156966, -0.0290333], \n",
      " [00, -0.661822, -0.358749, 0.406655, -0.115436, -0.0290333], \n",
      " [00, 0.465165, 0.438444, 0.366942, -0.0587761, -0.0290333], \n",
      " [00, -0.769908, -0.775828, -0.75445, 0.11017, -0.143756], \n",
      " [00, 0.108386, 0.108386, 0.108386, -0.165816, 0.176506]]\n"
     ]
    }
   ],
   "source": [
    "derivative_id_expression_dq = cs.jacobian(tau_sym(q_sym, qdot_sym, qddot_sym), q_sym)\n",
    "derivative_id_function_dq  = cs.Function(\"didq\", [q_sym, qdot_sym, qddot_sym], [derivative_id_expression_dq], {\"jit\": True, \"jit_options\":{\"flags\":\"-Ofast\"}})\n",
    "\n",
    "print(derivative_id_function_dq(np.ones(n_joints), np.ones(n_joints), np.ones(n_joints)))"
   ]
  },
  {
   "cell_type": "markdown",
   "metadata": {},
   "source": [
    "# cs.jtimes()\n",
    "\n",
    "To obtain the time derivative with cs.jtimes, the same procedure as for cs.jacobian() is used with an additional variable, i.e the time derivatives of the varibales:\n",
    "\n",
    "1. Import casadi and declare the symbolic variables needed, also the time derivatives of these: "
   ]
  },
  {
   "cell_type": "code",
   "execution_count": 18,
   "metadata": {},
   "outputs": [],
   "source": [
    "import casadi as cs\n",
    "\n",
    "q_sym =cs.SX.sym(\"qs\", n_joints)\n",
    "qdot_sym =cs.SX.sym(\"qsdot\", n_joints)\n",
    "qddot_sym =cs.SX.sym(\"qsddot\", n_joints)\n",
    "qdddot_sym = cs.SX.sym(\"qsdddot\", n_joints)"
   ]
  },
  {
   "cell_type": "markdown",
   "metadata": {},
   "source": [
    "2. Declare the vector of the variables to find the derivatives with respect to, and the vector with their time derivatives:"
   ]
  },
  {
   "cell_type": "code",
   "execution_count": 19,
   "metadata": {},
   "outputs": [],
   "source": [
    "id_vec = cs.vertcat(q_sym, qdot_sym, qddot_sym)\n",
    "id_dvec = cs.vertcat(qdot_sym, qddot_sym, qdddot_sym)"
   ]
  },
  {
   "cell_type": "markdown",
   "metadata": {},
   "source": [
    "3. Obtain the symbolic expression of the time derivative of ID with respect to q, qdot, and qddot using cs.jtimes():"
   ]
  },
  {
   "cell_type": "code",
   "execution_count": 20,
   "metadata": {},
   "outputs": [],
   "source": [
    "timederivative_id_expression = cs.jtimes(tau_sym(q_sym, qdot_sym, qddot_sym), id_vec, id_dvec)"
   ]
  },
  {
   "cell_type": "markdown",
   "metadata": {},
   "source": [
    "4. Use the symbolic expression to make a CasADi function that can be efficiently numerical evaluated:"
   ]
  },
  {
   "cell_type": "code",
   "execution_count": 21,
   "metadata": {},
   "outputs": [
    {
     "name": "stdout",
     "output_type": "stream",
     "text": [
      "[1.80166, -2.26444, 2.80034, 1.85865, -1.387, 0.482345]\n"
     ]
    }
   ],
   "source": [
    "timederivative_id_function = cs.Function(\"didtimes\", [q_sym, qdot_sym, qddot_sym, qdddot_sym], [timederivative_id_expression], {\"jit\": True, \"jit_options\":{\"flags\":\"-Ofast\"}})\n",
    "print(timederivative_id_function(np.ones(n_joints), np.ones(n_joints), np.ones(n_joints), np.ones(n_joints)))"
   ]
  },
  {
   "cell_type": "markdown",
   "metadata": {},
   "source": [
    "And one can also just find the time derivative of the inverse dynamics with respect to, for instance, q:"
   ]
  },
  {
   "cell_type": "code",
   "execution_count": 22,
   "metadata": {},
   "outputs": [
    {
     "name": "stdout",
     "output_type": "stream",
     "text": [
      "[2.3027, -5.01195, -0.758384, 1.18274, -2.33377, 0.335847]\n"
     ]
    }
   ],
   "source": [
    "timederivative_id_expression_dq = cs.jtimes(tau_sym(q_sym, qdot_sym, qddot_sym), q_sym, qdot_sym)\n",
    "timederivative_id_function_dq = cs.Function(\"dqidtimes\", [q_sym, qdot_sym, qddot_sym], [timederivative_id_expression_dq], {\"jit\": True, \"jit_options\":{\"flags\":\"-Ofast\"}})\n",
    "print(timederivative_id_function_dq(np.ones(n_joints), np.ones(n_joints), np.ones(n_joints)))"
   ]
  },
  {
   "cell_type": "code",
   "execution_count": null,
   "metadata": {},
   "outputs": [],
   "source": []
  }
 ],
 "metadata": {
  "kernelspec": {
   "display_name": "Python 2",
   "language": "python",
   "name": "python2"
  },
  "language_info": {
   "codemirror_mode": {
    "name": "ipython",
    "version": 2
   },
   "file_extension": ".py",
   "mimetype": "text/x-python",
   "name": "python",
   "nbconvert_exporter": "python",
   "pygments_lexer": "ipython2",
   "version": "2.7.18"
  }
 },
 "nbformat": 4,
 "nbformat_minor": 2
}