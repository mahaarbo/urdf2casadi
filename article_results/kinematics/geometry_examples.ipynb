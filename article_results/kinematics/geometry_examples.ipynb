{
 "cells": [
  {
   "cell_type": "code",
   "execution_count": 18,
   "metadata": {},
   "outputs": [],
   "source": [
    "import casadi as cs\n",
    "import urdf2casadi.geometry.dual_quaternion as dual_quaternion\n",
    "import urdf2casadi.geometry.transformation_matrix as transformation_matrix\n",
    "import urdf2casadi.geometry.quaternion as quaternion\n",
    "import urdf2casadi.geometry.plucker as plucker"
   ]
  },
  {
   "cell_type": "code",
   "execution_count": 2,
   "metadata": {},
   "outputs": [],
   "source": [
    "# urdf2casadi uses cs.SX, which can be hard to read as these are sparse matrices.\n",
    "# This short function just makes it so that the result will be a numpy matrix\n",
    "def cs2np(asd):\n",
    "    return cs.Function(\"temp\",[],[asd])()[\"o0\"].toarray()\n",
    "# NOTE: casadi imports numpy as np, so cs.np is numpy"
   ]
  },
  {
   "cell_type": "markdown",
   "metadata": {},
   "source": [
    "# Available functions:"
   ]
  },
  {
   "cell_type": "code",
   "execution_count": 21,
   "metadata": {},
   "outputs": [
    {
     "name": "stdout",
     "output_type": "stream",
     "text": [
      "urdf2casadi.geometry.transformation_matrix.full_symbolic\n",
      "urdf2casadi.geometry.transformation_matrix.numpy_normalize\n",
      "urdf2casadi.geometry.transformation_matrix.numpy_rotation_distance_from_identity\n",
      "urdf2casadi.geometry.transformation_matrix.numpy_rotation_rpy\n",
      "urdf2casadi.geometry.transformation_matrix.numpy_rpy\n",
      "urdf2casadi.geometry.transformation_matrix.numpy_skew_symmetric\n",
      "urdf2casadi.geometry.transformation_matrix.prismatic\n",
      "urdf2casadi.geometry.transformation_matrix.revolute\n",
      "urdf2casadi.geometry.quaternion.numpy_inner_product_dist\n",
      "urdf2casadi.geometry.quaternion.numpy_product\n",
      "urdf2casadi.geometry.quaternion.numpy_ravani_roth_dist\n",
      "urdf2casadi.geometry.quaternion.numpy_rpy\n",
      "urdf2casadi.geometry.quaternion.product\n",
      "urdf2casadi.geometry.quaternion.revolute\n",
      "urdf2casadi.geometry.dual_quaternion.axis_rotation\n",
      "urdf2casadi.geometry.dual_quaternion.axis_translation\n",
      "urdf2casadi.geometry.dual_quaternion.conj\n",
      "urdf2casadi.geometry.dual_quaternion.inv\n",
      "urdf2casadi.geometry.dual_quaternion.norm2\n",
      "urdf2casadi.geometry.dual_quaternion.numpy_axis_rotation\n",
      "urdf2casadi.geometry.dual_quaternion.numpy_axis_translation\n",
      "urdf2casadi.geometry.dual_quaternion.numpy_conj\n",
      "urdf2casadi.geometry.dual_quaternion.numpy_inv\n",
      "urdf2casadi.geometry.dual_quaternion.numpy_norm2\n",
      "urdf2casadi.geometry.dual_quaternion.numpy_prismatic\n",
      "urdf2casadi.geometry.dual_quaternion.numpy_product\n",
      "urdf2casadi.geometry.dual_quaternion.numpy_revolute\n",
      "urdf2casadi.geometry.dual_quaternion.numpy_rpy\n",
      "urdf2casadi.geometry.dual_quaternion.numpy_translation\n",
      "urdf2casadi.geometry.dual_quaternion.prismatic\n",
      "urdf2casadi.geometry.dual_quaternion.product\n",
      "urdf2casadi.geometry.dual_quaternion.revolute\n",
      "urdf2casadi.geometry.dual_quaternion.rpy\n",
      "urdf2casadi.geometry.dual_quaternion.to_numpy_transformation_matrix\n",
      "urdf2casadi.geometry.dual_quaternion.to_position\n",
      "urdf2casadi.geometry.dual_quaternion.to_rotation_matrix\n",
      "urdf2casadi.geometry.dual_quaternion.to_transformation_matrix\n",
      "urdf2casadi.geometry.dual_quaternion.translation\n",
      "urdf2casadi.geometry.plucker.XJT_prismatic\n",
      "urdf2casadi.geometry.plucker.XJT_prismatic_BA\n",
      "urdf2casadi.geometry.plucker.XJT_revolute\n",
      "urdf2casadi.geometry.plucker.XJT_revolute_BA\n",
      "urdf2casadi.geometry.plucker.XT\n",
      "urdf2casadi.geometry.plucker.force_cross_product\n",
      "urdf2casadi.geometry.plucker.inertia_matrix\n",
      "urdf2casadi.geometry.plucker.motion_cross_product\n",
      "urdf2casadi.geometry.plucker.numpy_rotation_rpy\n",
      "urdf2casadi.geometry.plucker.numpy_skew_symmetric\n",
      "urdf2casadi.geometry.plucker.spatial_force_transform\n",
      "urdf2casadi.geometry.plucker.spatial_inertia_matrix_IO\n",
      "urdf2casadi.geometry.plucker.spatial_inertia_matrix_Ic\n",
      "urdf2casadi.geometry.plucker.spatial_transform\n",
      "urdf2casadi.geometry.plucker.spatial_transform_BA\n"
     ]
    }
   ],
   "source": [
    "def print_funcs(mod):\n",
    "    for funcname in dir(mod):\n",
    "        if funcname != \"cs\" and funcname != \"np\" and funcname != \"tm\" and funcname[0] != \"_\":\n",
    "            print(mod.__name__+\".\"+funcname)\n",
    "print_funcs(transformation_matrix)\n",
    "print_funcs(quaternion)\n",
    "print_funcs(dual_quaternion)\n",
    "print_funcs(plucker)"
   ]
  },
  {
   "cell_type": "markdown",
   "metadata": {},
   "source": [
    "# Transformation matrices"
   ]
  },
  {
   "cell_type": "markdown",
   "metadata": {},
   "source": [
    "We have homogeneous 4x4 transformation matrices to represent the reference frames attached to the robot.\n",
    "These are defined in the \"translate then rotate\" approach. This is because it is the most common approach. Where we use roll-pitch-yaw to define a rotation matrix, we follow the ZYX convention for the Euler angles.\n",
    "Example of a simple roll-pitch-yaw and x-y-z displacement frame is:"
   ]
  },
  {
   "cell_type": "code",
   "execution_count": 4,
   "metadata": {},
   "outputs": [
    {
     "name": "stdout",
     "output_type": "stream",
     "text": [
      "<class 'casadi.casadi.SX'>\n",
      "\n",
      "casadi format:\n",
      " @1=1, @2=0, \n",
      "[[@1, @2, @2, @2], \n",
      " [@2, @1, @2, @1], \n",
      " [@2, @2, @1, @1], \n",
      " [@2, @2, @2, @1]]\n",
      "\n",
      "Readable format:\n",
      " [[1. 0. 0. 0.]\n",
      " [0. 1. 0. 1.]\n",
      " [0. 0. 1. 1.]\n",
      " [0. 0. 0. 1.]]\n"
     ]
    }
   ],
   "source": [
    "roll = 0.0\n",
    "pitch = 0.0\n",
    "yaw = 0.0\n",
    "x = 0.\n",
    "y = 1.\n",
    "z = 1.\n",
    "T_example = transformation_matrix.full_symbolic([x,y,z], [roll,pitch,yaw])\n",
    "print(type(T_example))\n",
    "print(\"\\ncasadi format:\\n\",T_example)\n",
    "print(\"\\nReadable format:\\n\",cs2np(T_example))"
   ]
  },
  {
   "cell_type": "markdown",
   "metadata": {},
   "source": [
    "Change rpy and xyz if you'd like. The rotation matrix and displacements are easily extracted by:"
   ]
  },
  {
   "cell_type": "code",
   "execution_count": 5,
   "metadata": {},
   "outputs": [
    {
     "name": "stdout",
     "output_type": "stream",
     "text": [
      "Rotation matrix\n",
      "[[1. 0. 0.]\n",
      " [0. 1. 0.]\n",
      " [0. 0. 1.]]\n",
      "Displacement\n",
      "[[0.]\n",
      " [1.]\n",
      " [1.]]\n"
     ]
    }
   ],
   "source": [
    "print(\"Rotation matrix\")\n",
    "print(cs2np(T_example[:3, :3]))\n",
    "print(\"Displacement\")\n",
    "print(cs2np(T_example[:3, 3]))"
   ]
  },
  {
   "cell_type": "markdown",
   "metadata": {},
   "source": [
    "And of course, we can multiply matrices by:"
   ]
  },
  {
   "cell_type": "code",
   "execution_count": 6,
   "metadata": {},
   "outputs": [
    {
     "name": "stdout",
     "output_type": "stream",
     "text": [
      "[[1. 0. 0. 0.]\n",
      " [0. 1. 0. 2.]\n",
      " [0. 0. 1. 2.]\n",
      " [0. 0. 0. 1.]]\n"
     ]
    }
   ],
   "source": [
    "res = cs.mtimes(T_example,T_example)\n",
    "print(cs2np(res))"
   ]
  },
  {
   "cell_type": "markdown",
   "metadata": {},
   "source": [
    "# Robot transformation matrices"
   ]
  },
  {
   "cell_type": "markdown",
   "metadata": {},
   "source": [
    "Robots are usually equipped with prismatic and revolute joints. So we have transformation matrices T_prismatic and T_revolute."
   ]
  },
  {
   "cell_type": "markdown",
   "metadata": {},
   "source": [
    "## Prismatic joints"
   ]
  },
  {
   "cell_type": "markdown",
   "metadata": {},
   "source": [
    "All joint transformation matrices follow the description in URDFs. Basically the joint origin relative the parent frame is described by a displacement, and then a RPY rotation. The axis is the vector we move along, defined in the joint origin frame. Example:"
   ]
  },
  {
   "cell_type": "code",
   "execution_count": 7,
   "metadata": {},
   "outputs": [
    {
     "name": "stdout",
     "output_type": "stream",
     "text": [
      "[[1. 0. 0. 5.]\n",
      " [0. 1. 0. 0.]\n",
      " [0. 0. 1. 0.]\n",
      " [0. 0. 0. 1.]]\n"
     ]
    }
   ],
   "source": [
    "xyz = [0.,\n",
    "       0.,\n",
    "       0.]\n",
    "rpy = [0.,\n",
    "       0.,\n",
    "       0.]\n",
    "axis = [1., \n",
    "        0., \n",
    "        0.]\n",
    "joint_value = 5.\n",
    "T_p = transformation_matrix.prismatic(xyz, rpy, axis, joint_value)\n",
    "print(cs2np(T_p))"
   ]
  },
  {
   "cell_type": "markdown",
   "metadata": {},
   "source": [
    "Try different axes and joint_values"
   ]
  },
  {
   "cell_type": "markdown",
   "metadata": {},
   "source": [
    "## Revolute joints\n"
   ]
  },
  {
   "cell_type": "markdown",
   "metadata": {},
   "source": [
    "Just as the prismatic joint we first get the displacement and rotation to the joint origin frame. Then we have an axis and a joint value that defines the rotation. The revolute joint follows an axis-angle rotation. However, axis-angle uses unit vectors for the axis, so make sure that it is a unit vector.\n",
    "If you comment out the axis normalization, you can see that the determinant is no longer equal to 1, and our rotation matrix must be malformed. (A determinant of 1 is a requirement of rotation matrices on rigid transformations.)"
   ]
  },
  {
   "cell_type": "code",
   "execution_count": 8,
   "metadata": {},
   "outputs": [
    {
     "name": "stdout",
     "output_type": "stream",
     "text": [
      "[[ 1.          0.          0.          0.        ]\n",
      " [ 0.          0.54030231 -0.84147098  0.        ]\n",
      " [ 0.          0.84147098  0.54030231  0.        ]\n",
      " [ 0.          0.          0.          1.        ]]\n",
      "determinant(Rotation)= 1\n"
     ]
    }
   ],
   "source": [
    "xyz = [0.,\n",
    "       0.,\n",
    "       0.]\n",
    "rpy = [0.,\n",
    "       0.,\n",
    "       0.]\n",
    "axis = [0.1, \n",
    "        0., \n",
    "        0.]\n",
    "axis_normal = cs.sqrt(axis[0]*axis[0]+axis[1]*axis[1]+axis[2]*axis[2])\n",
    "axis = [element/axis_normal for element in axis] # Normalizing the axis\n",
    "joint_value = 1.\n",
    "T_r = transformation_matrix.revolute(xyz, rpy, axis, joint_value)\n",
    "print(cs2np(T_r))\n",
    "print(\"determinant(Rotation)=\",cs.det(T_r[:3,:3]))"
   ]
  },
  {
   "cell_type": "markdown",
   "metadata": {},
   "source": [
    "The rest is advanced stuff"
   ]
  },
  {
   "cell_type": "markdown",
   "metadata": {},
   "source": [
    "# Quaternion and Dual Quaternion"
   ]
  },
  {
   "cell_type": "markdown",
   "metadata": {},
   "source": [
    "## Quaternion"
   ]
  },
  {
   "cell_type": "markdown",
   "metadata": {},
   "source": [
    "A quaternion is a representation of a rotation. We define\n",
    "$$\n",
    "\\vec{q} = w + xi + yj + zk = \\begin{bmatrix}\n",
    "x\\\\\n",
    "y\\\\\n",
    "z\\\\\n",
    "w\n",
    "\\end{bmatrix}\n",
    "$$\n",
    "where $i,j,k$ are the quaternion units, and the vector form is how we usually think of it. Rotations are defined using unit quaternions for which:\n",
    "$$\n",
    "\\lvert\\lvert q \\lvert\\lvert = \\sqrt{w^2+x^2+y^2+z^2} = 1\n",
    "$$\n",
    "and conjugates defined as $q^* = w - xi -yj - zk$. With unit quaternions we have that the inverse of a quaternion is the conjugate.\n",
    "\n",
    "They are related to the axis ($\\vec{k}$) angle ($\\theta$) parameters by:\n",
    "$$\n",
    "q = \\begin{bmatrix}\n",
    "\\vec{k}\\sin(\\theta)\\\\\n",
    "\\cos(\\theta)\n",
    "\\end{bmatrix} = \\begin{bmatrix}\n",
    "\\vec{\\epsilon}\\\\\n",
    "\\eta\n",
    "\\end{bmatrix}\n",
    "$$\n",
    "where $\\eta,\\vec{\\epsilon}$ are the Euler parameters from the axis-angle definition. \n",
    "Addition of quaternions in vector form is just like normal vectors, but multiplication uses the quaternion product:\n",
    "$$\n",
    "q_1\\otimes q_2 = \\begin{bmatrix}\n",
    "\\eta_1\\vec{\\epsilon}_2 + \\eta_2\\vec{\\epsilon}_1 + \\vec{\\epsilon}_1\\times \\vec{\\epsilon}_2\\\\\n",
    "\\eta_1\\eta_2 -\\vec{\\epsilon}_1^T\\vec{\\epsilon}_2\n",
    "\\end{bmatrix}=\n",
    "\\begin{bmatrix}\n",
    "w_1 x_2 + x_1 w_2 + y_1 z_2 - z_1 y_2\\\\\n",
    "w_1 y_2 - x_1 z_2 + y_1 w_2 + z_1 x_2\\\\\n",
    "w_1 z_2 + x_1 y_2 - y_1 x_2 + z_1 w_2\\\\\n",
    "w_1 w_2 - x_1 x_2 - y_1 y_2 - z_1 z_2\n",
    "\\end{bmatrix}\n",
    "$$\n",
    "The identity unit quaternion is:\n",
    "$$\n",
    "q_{id} = \\begin{bmatrix}\n",
    "0\\\\\n",
    "0\\\\\n",
    "0\\\\\n",
    "1\n",
    "\\end{bmatrix}\n",
    "$$\n",
    "with $q_{id}\\otimes q_1 = q_1$"
   ]
  },
  {
   "cell_type": "code",
   "execution_count": 9,
   "metadata": {},
   "outputs": [
    {
     "name": "stdout",
     "output_type": "stream",
     "text": [
      "[[1.0000e+00]\n",
      " [2.0000e+00]\n",
      " [2.3134e-01]\n",
      " [1.2312e+04]]\n"
     ]
    }
   ],
   "source": [
    "q_id = [0,0,0,1]\n",
    "q_1 = [1., 2., 0.23134, 12312.0]\n",
    "print(cs2np(quaternion.product(q_id,q_1)))"
   ]
  },
  {
   "cell_type": "markdown",
   "metadata": {},
   "source": [
    "Now since the quaternions are so obviously tied to Euler parameters, conversion from unit quaternions to rotation matrices is pretty much just shoving the values into the equation for converting Euler parameters to rotation matrices:\n",
    "$$\n",
    "\\mathbf{R}(q) = \\begin{bmatrix}\n",
    "w^2 + x^2 - y^2 - z^2 & 2(x y - w z) & 2(x z + w y)\\\\\n",
    "2(x y + w z) & w^2 - x^2 + y^2 - z^2 & 2(y z - w x)\\\\\n",
    "2(x z - w y) & 2(y z - w x) & w^2 - x^2 - y^2 + z^2\n",
    "\\end{bmatrix}\n",
    "$$\n",
    "And just as matrix multiplication is used to transform a rotation to another, given a quaternion $p_0$ describing an orientation, the final orientation $p_f$ after a rotation $q$ is:\n",
    "$$\n",
    "p_f = q\\otimes p_0 \\otimes q^*\n",
    "$$"
   ]
  },
  {
   "cell_type": "markdown",
   "metadata": {},
   "source": [
    "We include the revolute joint form of a quaternion. The usage is exactly the same as with the revolute joint transformation matrix. And if you want a bit more visualization of the quaternions to try to get a bit better intuition around it. We suggest the 3blue1brown videos on quaternions:\n",
    "[3Blue1Brown - What are quaternions, and how do you visualize them? A study of four dimensions.](https://www.youtube.com/watch?v=d4EgbgTm0Bg)\n",
    "But that's not what's the most interesting here. Because we have dual quaternions!"
   ]
  },
  {
   "cell_type": "markdown",
   "metadata": {},
   "source": [
    "## Dual quaternions"
   ]
  },
  {
   "cell_type": "markdown",
   "metadata": {},
   "source": [
    "Just as quaternions represent rotations, dual quaternions represent transformation matrices!\n",
    "A dual quaternion is a somewhat strange concept, but here are the basics:\n",
    "A dual quaternion $Q$ is defined by a \"real\" quaternion, $q_r$, and a \"dual\" quaternion $q_d$ such that:\n",
    "$$\n",
    "Q = q_r + \\varepsilon q_d = \\begin{bmatrix}\n",
    "x_r\\\\\n",
    "y_r\\\\\n",
    "z_r\\\\\n",
    "w_r\\\\\n",
    "x_d\\\\\n",
    "y_d\\\\\n",
    "z_d\\\\\n",
    "w_d\n",
    "\\end{bmatrix} = \\begin{bmatrix}\n",
    "q_r\\\\\n",
    "q_d\n",
    "\\end{bmatrix}\n",
    "$$\n",
    "where $\\varepsilon$ is the dual unit with the magical property that $\\varepsilon^2=0$, and the vector form is our own internal representation. So what does the dual quaternion product look like? Suppose we just apply the quaternion product with the magical $\\varepsilon^2=0$ property and the knowledge that the quaternion product is distributative?\n",
    "$$\n",
    "Q_1\\otimes Q_2 = (q_{r1} + \\varepsilon q_{d1})\\times(q_{r2} + \\varepsilon q_{d2}) = q_{r1}\\otimes q_{r2} + \\varepsilon(q_{r1}\\otimes q_{d2} + q_{d1}\\otimes q_{r2})\n",
    "$$\n",
    "which has a real part and a dual part. Thus we have the dual quaternion product.\n",
    "\n",
    "Now suppose $q_r$ is a unit quaternion that represents a rotation $R$. We note that the dual quaternion product will always just multiply the rotation part with rotations, just like with the transformation matrix, and that the rotations affect the summing of displacements. We know how to convert a quaternion to a rotation matrix, how about a $q_d$ to a displacement?\n",
    "\n",
    "The definition usually used is that a translation $\\vec{p} = [\\Delta_x, \\Delta_y, \\Delta_z, 0]$ (quaternion form) is written in the dual portion of a dual quaternion by:\n",
    "$$\n",
    "q_d = \\frac{1}{2}\\vec{p}\\otimes q_r\n",
    "$$\n",
    "this stems from the whole \"translation THEN rotation\" thing, if you switch that around, this switches too.\n",
    "Let's play with it!"
   ]
  },
  {
   "cell_type": "code",
   "execution_count": 10,
   "metadata": {},
   "outputs": [
    {
     "name": "stdout",
     "output_type": "stream",
     "text": [
      "Dual Quaternion:\n",
      " [[0. ]\n",
      " [0. ]\n",
      " [0. ]\n",
      " [1. ]\n",
      " [0.5]\n",
      " [0.5]\n",
      " [0.5]\n",
      " [0. ]]\n",
      "Transformation Matrix:\n",
      " [[1. 0. 0. 1.]\n",
      " [0. 1. 0. 1.]\n",
      " [0. 0. 1. 1.]\n",
      " [0. 0. 0. 1.]]\n"
     ]
    }
   ],
   "source": [
    "# Translation\n",
    "axis_t = [0.1, \n",
    "          0.1,\n",
    "          0.1]\n",
    "translation_val = 10.\n",
    "# Rotation\n",
    "axis_r = [0.,\n",
    "        0.,\n",
    "        1.]\n",
    "angle = 0.0\n",
    "axis_normal = cs.sqrt(axis[0]*axis[0] + axis[1]*axis[1] + axis[2]*axis[2])\n",
    "axis = [element/axis_normal for element in axis]\n",
    "Q_t = dual_quaternion.axis_translation(axis_t, translation_val)\n",
    "Q_r = dual_quaternion.axis_rotation(axis, angle)\n",
    "Q_f = dual_quaternion.product(Q_t,Q_r)\n",
    "print(\"Dual Quaternion:\\n\",cs2np(Q_f))\n",
    "print(\"Transformation Matrix:\\n\", cs2np(dual_quaternion.to_transformation_matrix(Q_f)))"
   ]
  },
  {
   "cell_type": "markdown",
   "metadata": {},
   "source": [
    "## Prismatic joints"
   ]
  },
  {
   "cell_type": "code",
   "execution_count": 16,
   "metadata": {},
   "outputs": [
    {
     "name": "stdout",
     "output_type": "stream",
     "text": [
      "Prismatic Joint Dual Quaternion:\n",
      " [[0. ]\n",
      " [0. ]\n",
      " [0. ]\n",
      " [1. ]\n",
      " [0.5]\n",
      " [0.5]\n",
      " [1. ]\n",
      " [0. ]]\n",
      "Transformation matrix:\n",
      " [[1. 0. 0. 1.]\n",
      " [0. 1. 0. 1.]\n",
      " [0. 0. 1. 2.]\n",
      " [0. 0. 0. 1.]]\n"
     ]
    }
   ],
   "source": [
    "xyz = [0., \n",
    "       0.,\n",
    "       1.]\n",
    "rpy = [0.,\n",
    "       0.,\n",
    "       0.]\n",
    "axis_t = [0.1, \n",
    "          0.1,\n",
    "          0.1]\n",
    "joint_val = 10.\n",
    "Q_p = dual_quaternion.prismatic(xyz,\n",
    "                                rpy,\n",
    "                                axis_t,\n",
    "                                joint_val)\n",
    "print(\"Prismatic Joint Dual Quaternion:\\n\", cs2np(Q_p))\n",
    "print(\"Transformation matrix:\\n\", cs2np(dual_quaternion.to_transformation_matrix(Q_p)))"
   ]
  },
  {
   "cell_type": "markdown",
   "metadata": {},
   "source": [
    "## Revolute joint"
   ]
  },
  {
   "cell_type": "code",
   "execution_count": 15,
   "metadata": {},
   "outputs": [
    {
     "name": "stdout",
     "output_type": "stream",
     "text": [
      "Revolute Joint Dual Quaternion:\n",
      " [[-0.95892427]\n",
      " [ 0.        ]\n",
      " [ 0.        ]\n",
      " [ 0.28366219]\n",
      " [ 0.        ]\n",
      " [-0.47946214]\n",
      " [ 0.14183109]\n",
      " [ 0.        ]]\n",
      "Transformation matrix:\n",
      " [[ 1.          0.          0.          0.        ]\n",
      " [ 0.         -0.83907153  0.54402111  0.        ]\n",
      " [ 0.         -0.54402111 -0.83907153  1.        ]\n",
      " [ 0.          0.          0.          1.        ]]\n"
     ]
    }
   ],
   "source": [
    "xyz = [0., \n",
    "       0.,\n",
    "       1.]\n",
    "rpy = [0.,\n",
    "       0.,\n",
    "       0.]\n",
    "axis_r = [1., \n",
    "          0.,\n",
    "          0.]\n",
    "axis_normal = cs.sqrt(axis_r[0]*axis_r[0] + axis_r[1]*axis_r[1] + axis_r[2]*axis_r[2])\n",
    "axis_r = [element/axis_normal for element in axis_r]\n",
    "joint_val = 10.\n",
    "Q_r = dual_quaternion.revolute(xyz,\n",
    "                               rpy,\n",
    "                               axis_r,\n",
    "                               joint_val)\n",
    "print(\"Revolute Joint Dual Quaternion:\\n\", cs2np(Q_r))\n",
    "print(\"Transformation matrix:\\n\", cs2np(dual_quaternion.to_transformation_matrix(Q_r)))"
   ]
  },
  {
   "cell_type": "code",
   "execution_count": null,
   "metadata": {},
   "outputs": [],
   "source": []
  }
 ],
 "metadata": {
  "kernelspec": {
   "display_name": "Python 3",
   "language": "python",
   "name": "python3"
  },
  "language_info": {
   "codemirror_mode": {
    "name": "ipython",
    "version": 3
   },
   "file_extension": ".py",
   "mimetype": "text/x-python",
   "name": "python",
   "nbconvert_exporter": "python",
   "pygments_lexer": "ipython3",
   "version": "3.8.5"
  }
 },
 "nbformat": 4,
 "nbformat_minor": 4
}
