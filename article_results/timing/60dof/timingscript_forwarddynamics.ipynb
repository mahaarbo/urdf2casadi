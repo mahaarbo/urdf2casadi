{
 "cells": [
  {
   "cell_type": "code",
   "execution_count": 3,
   "metadata": {},
   "outputs": [],
   "source": [
    "import numpy as np \n",
    "import urdf2casadi.urdfparser as u2c\n",
    "from urdf2casadi.geometry import plucker\n",
    "from urdf_parser_py.urdf import URDF, Pose\n",
    "#import PyKDL as kdl\n",
    "#import kdl_parser.kdl_parser_py.kdl_parser_py.urdf as kdlurdf\n",
    "from timeit import Timer, timeit, repeat\n",
    "import rbdl\n",
    "import pybullet as pb\n"
   ]
  },
  {
   "cell_type": "code",
   "execution_count": 4,
   "metadata": {},
   "outputs": [],
   "source": [
    "def median(lst):\n",
    "    n = len(lst)\n",
    "    if n < 1:\n",
    "            return None\n",
    "    if n % 2 == 1:\n",
    "            return sorted(lst)[n//2]\n",
    "    else:\n",
    "            return sum(sorted(lst)[n//2-1:n//2+1])/2.0\n",
    "        \n",
    "def average(lst): \n",
    "    return sum(lst) / len(lst) \n",
    "\n",
    "#def C_kdl_func():\n",
    "#    for j in range(njoints):\n",
    "#        q_kdl[j] = (qmax[j] - qmin[j])*np.random.rand()-(qmax[j] - qmin[j])/2\n",
    "        #qdot_kdl[j] = (qmax[j] - qmin[j])*np.random.rand()-(qmax[j] - qmin[j])/2\n",
    "\n",
    "#    kdl.ChainDynParam(kdlmodel, g_kdl).JntToCoriolis(q_kdl, qdot_kdl, C_kdl)\n",
    "\n",
    "#timeit_kdl = repeat(\"M_kdl_func()\", setup = \"from __main__ import M_kdl_func\", repeat = nrepeat, number = nitr)\n",
    "#mintime_kdl[i] = min(timeit_kdl)\n",
    "#mediantime_kdl[i] = median(timeit_kdl)\n",
    "#averagetime_kdl[i] = average(timeit_kdl)\n",
    "\n",
    "def aba_u2c_func():   \n",
    "    for j in range(njoints):\n",
    "        q_none[j] = (qmax[j] - qmin[j])*np.random.rand()-(qmax[j] - qmin[j])/2\n",
    "        qdot_none[j] = (qmax[j] - qmin[j])*np.random.rand()-(qmax[j] - qmin[j])/2\n",
    "        tau_none[j] = (qmax[j] - qmin[j])*np.random.rand()-(qmax[j] - qmin[j])/2\n",
    "\n",
    "    aba_u2c(q_none, qdot_none, tau_none)\n",
    "    \n",
    "def crba_u2c_func():\n",
    "    for j in range(njoints):\n",
    "        q_none[j] = (qmax[j] - qmin[j])*np.random.rand()-(qmax[j] - qmin[j])/2\n",
    "        qdot_none[j] = (qmax[j] - qmin[j])*np.random.rand()-(qmax[j] - qmin[j])/2\n",
    "        tau_none[j] = (qmax[j] - qmin[j])*np.random.rand()-(qmax[j] - qmin[j])/2\n",
    "    \n",
    "    crba_u2c(q_none, qdot_none, tau_none)\n",
    "    \n",
    "    \n",
    "def fd_rbdl_func():\n",
    "    for j in range(njoints):\n",
    "        q_np[j] = (qmax[j] - qmin[j])*np.random.rand()-(qmax[j] - qmin[j])/2\n",
    "        qdot_np[j] = (qmax[j] - qmin[j])*np.random.rand()-(qmax[j] - qmin[j])/2\n",
    "        tau_np[j] = (qmax[j] - qmin[j])*np.random.rand()-(qmax[j] - qmin[j])/2\n",
    "\n",
    "    rbdl.ForwardDynamics(rbdlmodel, q_np, qdot_np, tau_np, qddot_np)\n",
    "    #rbdl.ForwardDynamicsLagrangian(rbdlmodel, q_np, qdot_np, tau_np, qddot_np)\n",
    "\n"
   ]
  },
  {
   "cell_type": "code",
   "execution_count": null,
   "metadata": {},
   "outputs": [
    {
     "name": "stdout",
     "output_type": "stream",
     "text": [
      "0\n",
      "/home/lmjohann/urdf2casadi/examples/timing/urdf4timing/1dof.urdf\n",
      "1\n",
      "/home/lmjohann/urdf2casadi/examples/timing/urdf4timing/2dof.urdf\n",
      "2\n",
      "/home/lmjohann/urdf2casadi/examples/timing/urdf4timing/3dof.urdf\n",
      "3\n",
      "/home/lmjohann/urdf2casadi/examples/timing/urdf4timing/4dof.urdf\n",
      "4\n",
      "/home/lmjohann/urdf2casadi/examples/timing/urdf4timing/5dof.urdf\n",
      "5\n",
      "/home/lmjohann/urdf2casadi/examples/timing/urdf4timing/6dof.urdf\n",
      "6\n",
      "/home/lmjohann/urdf2casadi/examples/timing/urdf4timing/7dof.urdf\n",
      "7\n",
      "/home/lmjohann/urdf2casadi/examples/timing/urdf4timing/8dof.urdf\n",
      "8\n",
      "/home/lmjohann/urdf2casadi/examples/timing/urdf4timing/9dof.urdf\n",
      "9\n",
      "/home/lmjohann/urdf2casadi/examples/timing/urdf4timing/10dof.urdf\n",
      "10\n",
      "/home/lmjohann/urdf2casadi/examples/timing/urdf4timing/11dof.urdf\n",
      "11\n",
      "/home/lmjohann/urdf2casadi/examples/timing/urdf4timing/12dof.urdf\n",
      "12\n",
      "/home/lmjohann/urdf2casadi/examples/timing/urdf4timing/13dof.urdf\n",
      "13\n",
      "/home/lmjohann/urdf2casadi/examples/timing/urdf4timing/14dof.urdf\n",
      "14\n",
      "/home/lmjohann/urdf2casadi/examples/timing/urdf4timing/15dof.urdf\n",
      "15\n",
      "/home/lmjohann/urdf2casadi/examples/timing/urdf4timing/16dof.urdf\n",
      "16\n",
      "/home/lmjohann/urdf2casadi/examples/timing/urdf4timing/17dof.urdf\n",
      "17\n",
      "/home/lmjohann/urdf2casadi/examples/timing/urdf4timing/18dof.urdf\n",
      "18\n",
      "/home/lmjohann/urdf2casadi/examples/timing/urdf4timing/19dof.urdf\n",
      "19\n",
      "/home/lmjohann/urdf2casadi/examples/timing/urdf4timing/20dof.urdf\n",
      "20\n",
      "/home/lmjohann/urdf2casadi/examples/timing/urdf4timing/21dof.urdf\n",
      "21\n",
      "/home/lmjohann/urdf2casadi/examples/timing/urdf4timing/22dof.urdf\n",
      "22\n",
      "/home/lmjohann/urdf2casadi/examples/timing/urdf4timing/23dof.urdf\n",
      "23\n",
      "/home/lmjohann/urdf2casadi/examples/timing/urdf4timing/24dof.urdf\n",
      "24\n",
      "/home/lmjohann/urdf2casadi/examples/timing/urdf4timing/25dof.urdf\n",
      "25\n",
      "/home/lmjohann/urdf2casadi/examples/timing/urdf4timing/26dof.urdf\n",
      "26\n",
      "/home/lmjohann/urdf2casadi/examples/timing/urdf4timing/27dof.urdf\n",
      "27\n",
      "/home/lmjohann/urdf2casadi/examples/timing/urdf4timing/28dof.urdf\n",
      "28\n",
      "/home/lmjohann/urdf2casadi/examples/timing/urdf4timing/29dof.urdf\n",
      "29\n",
      "/home/lmjohann/urdf2casadi/examples/timing/urdf4timing/30dof.urdf\n",
      "30\n",
      "/home/lmjohann/urdf2casadi/examples/timing/urdf4timing/31dof.urdf\n",
      "31\n",
      "/home/lmjohann/urdf2casadi/examples/timing/urdf4timing/32dof.urdf\n",
      "32\n",
      "/home/lmjohann/urdf2casadi/examples/timing/urdf4timing/33dof.urdf\n",
      "33\n",
      "/home/lmjohann/urdf2casadi/examples/timing/urdf4timing/34dof.urdf\n",
      "34\n",
      "/home/lmjohann/urdf2casadi/examples/timing/urdf4timing/35dof.urdf\n",
      "35\n",
      "/home/lmjohann/urdf2casadi/examples/timing/urdf4timing/36dof.urdf\n",
      "36\n",
      "/home/lmjohann/urdf2casadi/examples/timing/urdf4timing/37dof.urdf\n",
      "37\n",
      "/home/lmjohann/urdf2casadi/examples/timing/urdf4timing/38dof.urdf\n",
      "38\n",
      "/home/lmjohann/urdf2casadi/examples/timing/urdf4timing/39dof.urdf\n",
      "39\n",
      "/home/lmjohann/urdf2casadi/examples/timing/urdf4timing/40dof.urdf\n",
      "40\n",
      "/home/lmjohann/urdf2casadi/examples/timing/urdf4timing/41dof.urdf\n",
      "41\n",
      "/home/lmjohann/urdf2casadi/examples/timing/urdf4timing/42dof.urdf\n",
      "42\n",
      "/home/lmjohann/urdf2casadi/examples/timing/urdf4timing/43dof.urdf\n",
      "43\n",
      "/home/lmjohann/urdf2casadi/examples/timing/urdf4timing/44dof.urdf\n",
      "44\n",
      "/home/lmjohann/urdf2casadi/examples/timing/urdf4timing/45dof.urdf\n",
      "45\n",
      "/home/lmjohann/urdf2casadi/examples/timing/urdf4timing/46dof.urdf\n",
      "46\n",
      "/home/lmjohann/urdf2casadi/examples/timing/urdf4timing/47dof.urdf\n",
      "47\n",
      "/home/lmjohann/urdf2casadi/examples/timing/urdf4timing/48dof.urdf\n",
      "48\n",
      "/home/lmjohann/urdf2casadi/examples/timing/urdf4timing/49dof.urdf\n",
      "49\n",
      "/home/lmjohann/urdf2casadi/examples/timing/urdf4timing/50dof.urdf\n",
      "50\n",
      "/home/lmjohann/urdf2casadi/examples/timing/urdf4timing/51dof.urdf\n"
     ]
    }
   ],
   "source": [
    "#pbmodel = pb.loadURDF(\"pantilt.urdf\")\n",
    "\n",
    "#pbmodel = pb.loadURDF(\"/urdf4timing/1dof.urdf\")\n",
    "ndofs = 60\n",
    "urdf_nr = list(range(ndofs + 1))\n",
    "urdf_nr.pop(0)\n",
    "\n",
    "#storage for timing data\n",
    "\n",
    "mediantime_u2c_aba = [None]*ndofs\n",
    "mediantime_rbdl = [None]*ndofs\n",
    "mediantime_u2c_crba = [None]*ndofs\n",
    "#mintime_kdl = [None]*ndofs\n",
    "mintime_u2c_aba = [None]*ndofs\n",
    "mintime_rbdl = [None]*ndofs\n",
    "mintime_u2c_crba = [None]*ndofs\n",
    "#averagetime_kdl = [None]*ndofs\n",
    "averagetime_u2c_aba = [None]*ndofs\n",
    "averagetime_rbdl = [None]*ndofs\n",
    "averagetime_u2c_crba = [None]*ndofs\n",
    "\n",
    "\n",
    "nitr = 10\n",
    "nrepeat = 10\n",
    "    \n",
    "for i in range(ndofs):    \n",
    "    print i\n",
    "    path_to_urdf = \"/home/lmjohann/urdf2casadi/examples/timing/urdf4timing/\" + str(urdf_nr[i]) + \"dof.urdf\"\n",
    "    end_link = \"link\" + str(urdf_nr[i])\n",
    "    root = 'base_link'\n",
    "    tip = end_link\n",
    "    \n",
    "    #ok, kdl_tree = kdlurdf.treeFromFile(path_to_urdf)\n",
    "    #kdlmodel = kdl_tree.getChain(root,tip)\n",
    "    \n",
    "    rbdlmodel = rbdl.loadModel(path_to_urdf)\n",
    "    #pbmodel = pb.loadURDF(path_to_urdf, useFixedBase=True)\n",
    "    asd = u2c.URDFparser()\n",
    "    robot_desc = asd.from_file(path_to_urdf)\n",
    "    \n",
    "    jlist, names, qmax, qmin = asd.get_joint_info(root, tip)\n",
    "    njoints = len(jlist)\n",
    "\n",
    "    #g_kdl = kdl.Vector()\n",
    "    #M_kdl = kdl.JntSpaceInertiaMatrix(njoints)\n",
    "    \n",
    "    #rbdl declarations\n",
    "    q_np = np.zeros(njoints)\n",
    "    qdot_np = np.zeros(njoints)\n",
    "    qddot_np = np.zeros(njoints)\n",
    "    tau_np = np.zeros(njoints)\n",
    "    \n",
    "    #kdl declatations\n",
    "    #q_kdl = kdl.JntArray(njoints)\n",
    "    #qdot_kdl = kdl.JntArray(njoints)\n",
    "    \n",
    "    #u2c and pybullet declarations\n",
    "    q_none = [None]*njoints\n",
    "    qdot_none = [None]*njoints\n",
    "    C_pb = [None]*njoints\n",
    "    tau_none = [None]*njoints\n",
    "        \n",
    "    \n",
    "    gravity = [0, 0, -9.81]\n",
    "    \n",
    "    #aba_u2c = asd.get_forward_dynamics_aba(root, tip)\n",
    "    #timeit_u2c_aba = repeat(\"aba_u2c_func()\", setup = \"from __main__ import aba_u2c_func\", repeat = nrepeat, number = nitr)\n",
    "    #mintime_u2c_aba[i] = min(timeit_u2c_aba)\n",
    "    #mediantime_u2c_aba[i] = median(timeit_u2c_aba)\n",
    "    #averagetime_u2c_aba[i] = average(timeit_u2c_aba)\n",
    "    \n",
    "    crba_u2c = asd.get_forward_dynamics_crba(root, tip)\n",
    "    timeit_crba = repeat(\"crba_u2c_func()\", setup = \"from __main__ import crba_u2c_func\", repeat = nrepeat, number = nitr)\n",
    "    mintime_u2c_crba[i] = min(timeit_crba)\n",
    "    mediantime_u2c_crba[i] = median(timeit_crba)\n",
    "    averagetime_u2c_crba[i] = average(timeit_crba)\n",
    "    \n",
    "    #timeit_rbdl = repeat(\"fd_rbdl_func()\", setup = \"from __main__ import fd_rbdl_func\", repeat = nrepeat, number = nitr)\n",
    "    #mintime_rbdl[i] = min(timeit_rbdl)\n",
    "    #mediantime_rbdl[i] = median(timeit_rbdl)\n",
    "    #averagetime_rbdl[i] = average(timeit_rbdl)\n",
    "    \n",
    "    "
   ]
  },
  {
   "cell_type": "code",
   "execution_count": 27,
   "metadata": {},
   "outputs": [
    {
     "name": "stdout",
     "output_type": "stream",
     "text": [
      "0.000144004821777\n"
     ]
    }
   ],
   "source": [
    "print timeit_u2c_aba[60]"
   ]
  },
  {
   "cell_type": "code",
   "execution_count": 35,
   "metadata": {},
   "outputs": [
    {
     "data": {
      "image/png": "[encoded data removed]",
      "text/plain": [
       "<Figure size 576x576 with 1 Axes>"
      ]
     },
     "metadata": {},
     "output_type": "display_data"
    }
   ],
   "source": [
    "import matplotlib.pyplot as plt\n",
    "import pandas as pd\n",
    "\n",
    "joint_nr = list(range(ndofs + 1))\n",
    "joint_nr.pop(0)\n",
    "med_fig = plt.figure(figsize = (8, 8))\n",
    "#plt.scatter(joint_nr, mediantime_kdl, c='r', marker='x', label='kdl')\n",
    "plt.scatter(joint_nr, mintime_u2c_aba, c='hotpink', label='u2c - ABA')\n",
    "plt.scatter(joint_nr, mediantime_rbdl, c='dodgerblue', label='rbdl')\n",
    "plt.scatter(joint_nr, mediantime_u2c_crba, c='mediumvioletred', label='u2c - CRBA + RNEA')\n",
    "plt.legend(loc='upper left')\n",
    "#plt.ylim(0, 0.00014)\n",
    "med_fig.show()"
   ]
  },
  {
   "cell_type": "code",
   "execution_count": 9,
   "metadata": {},
   "outputs": [
    {
     "data": {
      "text/plain": [
       "[Text(0,0,'U2C - ABA'), Text(0,0,'U2C - CRBA + RNEA')]"
      ]
     },
     "execution_count": 9,
     "metadata": {},
     "output_type": "execute_result"
    },
    {
     "data": {
      "image/png": "[encoded data removed]",
      "text/plain": [
       "<Figure size 504x504 with 1 Axes>"
      ]
     },
     "metadata": {},
     "output_type": "display_data"
    }
   ],
   "source": [
    "timing_scores = [mediantime_u2c_aba, mediantime_rbdl]\n",
    "names = [\"U2C - ABA\", \"U2C - CRBA + RNEA\", \"RBDL\"]\n",
    "boxplot = plt.figure(figsize = (7, 7))\n",
    "boxplot.suptitle(\"Library Timing Comparison\")\n",
    "ax = boxplot.add_subplot(111)\n",
    "ax.boxplot(timing_scores)\n",
    "#plt.boxplot(timing_scores)\n",
    "ax.set_xticklabels(names)\n"
   ]
  },
  {
   "cell_type": "code",
   "execution_count": 36,
   "metadata": {},
   "outputs": [
    {
     "name": "stdout",
     "output_type": "stream",
     "text": [
      "fd_mediantime_aba = [0.2085869312286377, 0.24915289878845215, 0.2678999900817871, 0.29242801666259766, 0.3108079433441162, 0.33443284034729004, 0.35774803161621094, 0.38053107261657715, 0.3911280632019043, 0.42827916145324707, 0.44278597831726074, 0.45998501777648926, 0.49125003814697266, 0.5134181976318359, 0.5306839942932129, 0.5676910877227783, 0.5783050060272217, 0.6313538551330566, 0.6234900951385498, 0.6948549747467041, 0.6966760158538818, 0.7576069831848145, 0.7372899055480957, 0.7968251705169678, 0.7617740631103516, 0.7938261032104492, 0.8182358741760254, 0.8144850730895996, 0.8131420612335205, 0.815310001373291, 0.843163013458252, 0.833543062210083, 0.8741939067840576, 0.8864428997039795, 0.9304099082946777, 0.9332060813903809, 0.9541900157928467, 0.9532480239868164, 0.9858310222625732, 0.9913599491119385, 1.0201830863952637, 1.0237998962402344, 1.055022954940796, 1.0598869323730469, 1.0922651290893555, 1.1539769172668457, 1.1791629791259766, 1.140589952468872, 1.1646740436553955, 1.2286241054534912, 1.2515249252319336, 1.2205281257629395, 1.2419509887695312, 1.2361938953399658, 1.2671189308166504, 1.2797651290893555, 1.2999439239501953, 1.3596510887145996, 1.3433239459991455, 1.4168870449066162]\n",
      "fd_mediantime_rbdl = [0.03240847587585449, 0.05166506767272949, 0.07229959964752197, 0.09136044979095459, 0.11113250255584717, 0.13170504570007324, 0.15698540210723877, 0.17171287536621094, 0.19383704662322998, 0.2167985439300537, 0.22650301456451416, 0.25313854217529297, 0.26476502418518066, 0.2906731367111206, 0.3082500696182251, 0.34342455863952637, 0.3643920421600342, 0.37493395805358887, 0.41082561016082764, 0.45036137104034424, 0.4581195116043091, 0.4786055088043213, 0.4987415075302124, 0.5144749879837036, 0.5449109077453613, 0.5736420154571533, 0.5793025493621826, 0.60167396068573, 0.6073086261749268, 0.6159933805465698, 0.6414018869400024, 0.6550170183181763, 0.6814475059509277, 0.7155745029449463, 0.7165310382843018, 0.7382004261016846, 0.7733715772628784, 0.7698454856872559, 0.8116084337234497, 0.812206506729126, 0.8460555076599121, 0.8486349582672119, 0.8799340724945068, 0.8925799131393433, 0.9661920070648193, 0.9832899570465088, 0.963939905166626, 0.9883824586868286, 1.0065269470214844, 1.0679059028625488, 1.073586106300354, 1.0899235010147095, 1.100746512413025, 1.1229020357131958, 1.134859561920166, 1.1703269481658936, 1.1997740268707275, 1.2068403959274292, 1.2394745349884033, 1.2664246559143066]\n"
     ]
    }
   ],
   "source": [
    "print \"fd_mediantime_aba =\",mintime_u2c_aba\n",
    "print \"fd_mediantime_rbdl =\",mediantime_rbdl"
   ]
  },
  {
   "cell_type": "code",
   "execution_count": null,
   "metadata": {},
   "outputs": [],
   "source": []
  }
 ],
 "metadata": {
  "kernelspec": {
   "display_name": "Python 2",
   "language": "python",
   "name": "python2"
  },
  "language_info": {
   "codemirror_mode": {
    "name": "ipython",
    "version": 2
   },
   "file_extension": ".py",
   "mimetype": "text/x-python",
   "name": "python",
   "nbconvert_exporter": "python",
   "pygments_lexer": "ipython2",
   "version": "2.7.12"
  }
 },
 "nbformat": 4,
 "nbformat_minor": 2
}
