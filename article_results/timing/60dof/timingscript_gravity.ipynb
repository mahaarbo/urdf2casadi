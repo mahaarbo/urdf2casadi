{
 "cells": [
  {
   "cell_type": "code",
   "execution_count": 1,
   "metadata": {},
   "outputs": [],
   "source": [
    "import numpy as np \n",
    "import urdf2casadi.urdfparser as u2c\n",
    "from urdf2casadi.geometry import plucker\n",
    "from urdf_parser_py.urdf import URDF, Pose\n",
    "import PyKDL as kdl\n",
    "import kdl_parser_py.urdf as kdlurdf\n",
    "from timeit import Timer, timeit, repeat\n",
    "import rbdl\n",
    "import pybullet as pb\n"
   ]
  },
  {
   "cell_type": "code",
   "execution_count": 2,
   "metadata": {},
   "outputs": [],
   "source": [
    "def median(lst):\n",
    "    n = len(lst)\n",
    "    if n < 1:\n",
    "            return None\n",
    "    if n % 2 == 1:\n",
    "            return sorted(lst)[n//2]\n",
    "    else:\n",
    "            return sum(sorted(lst)[n//2-1:n//2+1])/2.0\n",
    "        \n",
    "def average(lst): \n",
    "    return sum(lst) / len(lst) \n",
    "\n",
    "\n",
    "def g_kdl_func():\n",
    "    for j in range(njoints):\n",
    "        q_kdl[j] = (qmax[j] - qmin[j])*np.random.rand()-(qmax[j] - qmin[j])/2\n",
    "        #qdot_kdl[j] = (qmax[j] - qmin[j])*np.random.rand()-(qmax[j] - qmin[j])/2\n",
    "\n",
    "    kdl.ChainDynParam(kdlmodel, gravity_kdl).JntToGravity(q_kdl, g_kdl)\n",
    "\n",
    "\n",
    "def g_u2c_func():   \n",
    "    for j in range(njoints):\n",
    "        q_none[j] = (qmax[j] - qmin[j])*np.random.rand()-(qmax[j] - qmin[j])/2\n",
    "        #qdot_none[j] = (qmax[j] - qmin[j])*np.random.rand()-(qmax[j] - qmin[j])/2\n",
    "\n",
    "    g_u2c(q_none)\n",
    "    \n",
    "def g_pb_func():\n",
    "    for j in range(njoints):\n",
    "        q_none[j] = (qmax[j] - qmin[j])*np.random.rand()-(qmax[j] - qmin[j])/2\n",
    "        #qdot_none[j] = (qmax[j] - qmin[j])*np.random.rand()-(qmax[j] - qmin[j])/2\n",
    "    \n",
    "    g_pb = pb.calculateInverseDynamics(pbmodel, q_none, qdot, qddot)\n",
    "    \n",
    "def g_rbdl_func():\n",
    "    for j in range(njoints):\n",
    "        q_np[j] = (qmax[j] - qmin[j])*np.random.rand()-(qmax[j] - qmin[j])/2\n",
    "        #qdot_np[j] = (qmax[j] - qmin[j])*np.random.rand()-(qmax[j] - qmin[j])/2\n",
    "\n",
    "    rbdl.InverseDynamics(rbdlmodel, q_np, qdot_np, qddot_np, g_rbdl)\n",
    "\n"
   ]
  },
  {
   "cell_type": "code",
   "execution_count": 17,
   "metadata": {},
   "outputs": [
    {
     "name": "stdout",
     "output_type": "stream",
     "text": [
      "The root link base_link has an inertia specified in the URDF, but KDL does not support a root link with an inertia.  As a workaround, you can add an extra dummy link to your URDF.\n",
      "/home/lmjohann/urdf2casadi/examples/timing/urdf4timing/1dof.urdf\n",
      "/home/lmjohann/urdf2casadi/examples/timing/urdf4timing/2dof.urdf\n",
      "The root link base_link has an inertia specified in the URDF, but KDL does not support a root link with an inertia.  As a workaround, you can add an extra dummy link to your URDF.\n",
      "/home/lmjohann/urdf2casadi/examples/timing/urdf4timing/3dof.urdf\n",
      "The root link base_link has an inertia specified in the URDF, but KDL does not support a root link with an inertia.  As a workaround, you can add an extra dummy link to your URDF.\n",
      "/home/lmjohann/urdf2casadi/examples/timing/urdf4timing/4dof.urdf\n",
      "The root link base_link has an inertia specified in the URDF, but KDL does not support a root link with an inertia.  As a workaround, you can add an extra dummy link to your URDF.\n",
      "/home/lmjohann/urdf2casadi/examples/timing/urdf4timing/5dof.urdf\n",
      "The root link base_link has an inertia specified in the URDF, but KDL does not support a root link with an inertia.  As a workaround, you can add an extra dummy link to your URDF.\n",
      "/home/lmjohann/urdf2casadi/examples/timing/urdf4timing/6dof.urdf\n",
      "The root link base_link has an inertia specified in the URDF, but KDL does not support a root link with an inertia.  As a workaround, you can add an extra dummy link to your URDF.\n",
      "/home/lmjohann/urdf2casadi/examples/timing/urdf4timing/7dof.urdf\n",
      "The root link base_link has an inertia specified in the URDF, but KDL does not support a root link with an inertia.  As a workaround, you can add an extra dummy link to your URDF.\n",
      "/home/lmjohann/urdf2casadi/examples/timing/urdf4timing/8dof.urdf\n",
      "The root link base_link has an inertia specified in the URDF, but KDL does not support a root link with an inertia.  As a workaround, you can add an extra dummy link to your URDF.\n",
      "/home/lmjohann/urdf2casadi/examples/timing/urdf4timing/9dof.urdf\n",
      "The root link base_link has an inertia specified in the URDF, but KDL does not support a root link with an inertia.  As a workaround, you can add an extra dummy link to your URDF.\n",
      "/home/lmjohann/urdf2casadi/examples/timing/urdf4timing/10dof.urdf\n",
      "The root link base_link has an inertia specified in the URDF, but KDL does not support a root link with an inertia.  As a workaround, you can add an extra dummy link to your URDF.\n",
      "/home/lmjohann/urdf2casadi/examples/timing/urdf4timing/11dof.urdf\n",
      "The root link base_link has an inertia specified in the URDF, but KDL does not support a root link with an inertia.  As a workaround, you can add an extra dummy link to your URDF.\n",
      "/home/lmjohann/urdf2casadi/examples/timing/urdf4timing/12dof.urdf\n",
      "The root link base_link has an inertia specified in the URDF, but KDL does not support a root link with an inertia.  As a workaround, you can add an extra dummy link to your URDF.\n",
      "/home/lmjohann/urdf2casadi/examples/timing/urdf4timing/13dof.urdf\n",
      "The root link base_link has an inertia specified in the URDF, but KDL does not support a root link with an inertia.  As a workaround, you can add an extra dummy link to your URDF.\n",
      "/home/lmjohann/urdf2casadi/examples/timing/urdf4timing/14dof.urdf\n",
      "The root link base_link has an inertia specified in the URDF, but KDL does not support a root link with an inertia.  As a workaround, you can add an extra dummy link to your URDF.\n",
      "/home/lmjohann/urdf2casadi/examples/timing/urdf4timing/15dof.urdf\n",
      "The root link base_link has an inertia specified in the URDF, but KDL does not support a root link with an inertia.  As a workaround, you can add an extra dummy link to your URDF.\n",
      "/home/lmjohann/urdf2casadi/examples/timing/urdf4timing/16dof.urdf\n",
      "The root link base_link has an inertia specified in the URDF, but KDL does not support a root link with an inertia.  As a workaround, you can add an extra dummy link to your URDF.\n",
      "/home/lmjohann/urdf2casadi/examples/timing/urdf4timing/17dof.urdf\n",
      "The root link base_link has an inertia specified in the URDF, but KDL does not support a root link with an inertia.  As a workaround, you can add an extra dummy link to your URDF.\n",
      "/home/lmjohann/urdf2casadi/examples/timing/urdf4timing/18dof.urdf\n",
      "The root link base_link has an inertia specified in the URDF, but KDL does not support a root link with an inertia.  As a workaround, you can add an extra dummy link to your URDF.\n",
      "/home/lmjohann/urdf2casadi/examples/timing/urdf4timing/19dof.urdf\n",
      "The root link base_link has an inertia specified in the URDF, but KDL does not support a root link with an inertia.  As a workaround, you can add an extra dummy link to your URDF.\n",
      "/home/lmjohann/urdf2casadi/examples/timing/urdf4timing/20dof.urdf\n",
      "The root link base_link has an inertia specified in the URDF, but KDL does not support a root link with an inertia.  As a workaround, you can add an extra dummy link to your URDF.\n",
      "/home/lmjohann/urdf2casadi/examples/timing/urdf4timing/21dof.urdf\n",
      "The root link base_link has an inertia specified in the URDF, but KDL does not support a root link with an inertia.  As a workaround, you can add an extra dummy link to your URDF.\n",
      "/home/lmjohann/urdf2casadi/examples/timing/urdf4timing/22dof.urdf\n",
      "The root link base_link has an inertia specified in the URDF, but KDL does not support a root link with an inertia.  As a workaround, you can add an extra dummy link to your URDF.\n",
      "/home/lmjohann/urdf2casadi/examples/timing/urdf4timing/23dof.urdf\n",
      "The root link base_link has an inertia specified in the URDF, but KDL does not support a root link with an inertia.  As a workaround, you can add an extra dummy link to your URDF.\n",
      "/home/lmjohann/urdf2casadi/examples/timing/urdf4timing/24dof.urdf\n",
      "The root link base_link has an inertia specified in the URDF, but KDL does not support a root link with an inertia.  As a workaround, you can add an extra dummy link to your URDF.\n",
      "/home/lmjohann/urdf2casadi/examples/timing/urdf4timing/25dof.urdf\n",
      "The root link base_link has an inertia specified in the URDF, but KDL does not support a root link with an inertia.  As a workaround, you can add an extra dummy link to your URDF.\n",
      "/home/lmjohann/urdf2casadi/examples/timing/urdf4timing/26dof.urdf\n",
      "The root link base_link has an inertia specified in the URDF, but KDL does not support a root link with an inertia.  As a workaround, you can add an extra dummy link to your URDF.\n",
      "/home/lmjohann/urdf2casadi/examples/timing/urdf4timing/27dof.urdf\n",
      "The root link base_link has an inertia specified in the URDF, but KDL does not support a root link with an inertia.  As a workaround, you can add an extra dummy link to your URDF.\n",
      "/home/lmjohann/urdf2casadi/examples/timing/urdf4timing/28dof.urdf\n",
      "The root link base_link has an inertia specified in the URDF, but KDL does not support a root link with an inertia.  As a workaround, you can add an extra dummy link to your URDF.\n",
      "/home/lmjohann/urdf2casadi/examples/timing/urdf4timing/29dof.urdf\n",
      "The root link base_link has an inertia specified in the URDF, but KDL does not support a root link with an inertia.  As a workaround, you can add an extra dummy link to your URDF.\n",
      "/home/lmjohann/urdf2casadi/examples/timing/urdf4timing/30dof.urdf\n",
      "The root link base_link has an inertia specified in the URDF, but KDL does not support a root link with an inertia.  As a workaround, you can add an extra dummy link to your URDF.\n",
      "/home/lmjohann/urdf2casadi/examples/timing/urdf4timing/31dof.urdf\n",
      "The root link base_link has an inertia specified in the URDF, but KDL does not support a root link with an inertia.  As a workaround, you can add an extra dummy link to your URDF.\n",
      "/home/lmjohann/urdf2casadi/examples/timing/urdf4timing/32dof.urdf\n",
      "The root link base_link has an inertia specified in the URDF, but KDL does not support a root link with an inertia.  As a workaround, you can add an extra dummy link to your URDF.\n",
      "/home/lmjohann/urdf2casadi/examples/timing/urdf4timing/33dof.urdf\n",
      "The root link base_link has an inertia specified in the URDF, but KDL does not support a root link with an inertia.  As a workaround, you can add an extra dummy link to your URDF.\n",
      "/home/lmjohann/urdf2casadi/examples/timing/urdf4timing/34dof.urdf\n",
      "The root link base_link has an inertia specified in the URDF, but KDL does not support a root link with an inertia.  As a workaround, you can add an extra dummy link to your URDF.\n",
      "/home/lmjohann/urdf2casadi/examples/timing/urdf4timing/35dof.urdf\n"
     ]
    },
    {
     "name": "stdout",
     "output_type": "stream",
     "text": [
      "The root link base_link has an inertia specified in the URDF, but KDL does not support a root link with an inertia.  As a workaround, you can add an extra dummy link to your URDF.\n",
      "/home/lmjohann/urdf2casadi/examples/timing/urdf4timing/36dof.urdf\n",
      "The root link base_link has an inertia specified in the URDF, but KDL does not support a root link with an inertia.  As a workaround, you can add an extra dummy link to your URDF.\n",
      "/home/lmjohann/urdf2casadi/examples/timing/urdf4timing/37dof.urdf\n",
      "The root link base_link has an inertia specified in the URDF, but KDL does not support a root link with an inertia.  As a workaround, you can add an extra dummy link to your URDF.\n",
      "/home/lmjohann/urdf2casadi/examples/timing/urdf4timing/38dof.urdf\n",
      "The root link base_link has an inertia specified in the URDF, but KDL does not support a root link with an inertia.  As a workaround, you can add an extra dummy link to your URDF.\n",
      "/home/lmjohann/urdf2casadi/examples/timing/urdf4timing/39dof.urdf\n",
      "The root link base_link has an inertia specified in the URDF, but KDL does not support a root link with an inertia.  As a workaround, you can add an extra dummy link to your URDF.\n",
      "/home/lmjohann/urdf2casadi/examples/timing/urdf4timing/40dof.urdf\n",
      "The root link base_link has an inertia specified in the URDF, but KDL does not support a root link with an inertia.  As a workaround, you can add an extra dummy link to your URDF.\n",
      "/home/lmjohann/urdf2casadi/examples/timing/urdf4timing/41dof.urdf\n",
      "The root link base_link has an inertia specified in the URDF, but KDL does not support a root link with an inertia.  As a workaround, you can add an extra dummy link to your URDF.\n",
      "/home/lmjohann/urdf2casadi/examples/timing/urdf4timing/42dof.urdf\n",
      "The root link base_link has an inertia specified in the URDF, but KDL does not support a root link with an inertia.  As a workaround, you can add an extra dummy link to your URDF.\n",
      "/home/lmjohann/urdf2casadi/examples/timing/urdf4timing/43dof.urdf\n",
      "The root link base_link has an inertia specified in the URDF, but KDL does not support a root link with an inertia.  As a workaround, you can add an extra dummy link to your URDF.\n",
      "/home/lmjohann/urdf2casadi/examples/timing/urdf4timing/44dof.urdf\n",
      "The root link base_link has an inertia specified in the URDF, but KDL does not support a root link with an inertia.  As a workaround, you can add an extra dummy link to your URDF.\n",
      "/home/lmjohann/urdf2casadi/examples/timing/urdf4timing/45dof.urdf\n",
      "The root link base_link has an inertia specified in the URDF, but KDL does not support a root link with an inertia.  As a workaround, you can add an extra dummy link to your URDF.\n",
      "/home/lmjohann/urdf2casadi/examples/timing/urdf4timing/46dof.urdf\n",
      "The root link base_link has an inertia specified in the URDF, but KDL does not support a root link with an inertia.  As a workaround, you can add an extra dummy link to your URDF.\n",
      "/home/lmjohann/urdf2casadi/examples/timing/urdf4timing/47dof.urdf\n",
      "The root link base_link has an inertia specified in the URDF, but KDL does not support a root link with an inertia.  As a workaround, you can add an extra dummy link to your URDF.\n",
      "/home/lmjohann/urdf2casadi/examples/timing/urdf4timing/48dof.urdf\n",
      "The root link base_link has an inertia specified in the URDF, but KDL does not support a root link with an inertia.  As a workaround, you can add an extra dummy link to your URDF.\n",
      "/home/lmjohann/urdf2casadi/examples/timing/urdf4timing/49dof.urdf\n",
      "The root link base_link has an inertia specified in the URDF, but KDL does not support a root link with an inertia.  As a workaround, you can add an extra dummy link to your URDF.\n",
      "/home/lmjohann/urdf2casadi/examples/timing/urdf4timing/50dof.urdf\n",
      "The root link base_link has an inertia specified in the URDF, but KDL does not support a root link with an inertia.  As a workaround, you can add an extra dummy link to your URDF.\n",
      "/home/lmjohann/urdf2casadi/examples/timing/urdf4timing/51dof.urdf\n",
      "The root link base_link has an inertia specified in the URDF, but KDL does not support a root link with an inertia.  As a workaround, you can add an extra dummy link to your URDF.\n",
      "/home/lmjohann/urdf2casadi/examples/timing/urdf4timing/52dof.urdf\n",
      "The root link base_link has an inertia specified in the URDF, but KDL does not support a root link with an inertia.  As a workaround, you can add an extra dummy link to your URDF.\n",
      "/home/lmjohann/urdf2casadi/examples/timing/urdf4timing/53dof.urdf\n",
      "The root link base_link has an inertia specified in the URDF, but KDL does not support a root link with an inertia.  As a workaround, you can add an extra dummy link to your URDF.\n",
      "/home/lmjohann/urdf2casadi/examples/timing/urdf4timing/54dof.urdf\n",
      "The root link base_link has an inertia specified in the URDF, but KDL does not support a root link with an inertia.  As a workaround, you can add an extra dummy link to your URDF.\n",
      "/home/lmjohann/urdf2casadi/examples/timing/urdf4timing/55dof.urdf\n",
      "The root link base_link has an inertia specified in the URDF, but KDL does not support a root link with an inertia.  As a workaround, you can add an extra dummy link to your URDF.\n",
      "/home/lmjohann/urdf2casadi/examples/timing/urdf4timing/56dof.urdf\n",
      "The root link base_link has an inertia specified in the URDF, but KDL does not support a root link with an inertia.  As a workaround, you can add an extra dummy link to your URDF.\n",
      "/home/lmjohann/urdf2casadi/examples/timing/urdf4timing/57dof.urdf\n",
      "The root link base_link has an inertia specified in the URDF, but KDL does not support a root link with an inertia.  As a workaround, you can add an extra dummy link to your URDF.\n",
      "/home/lmjohann/urdf2casadi/examples/timing/urdf4timing/58dof.urdf\n",
      "The root link base_link has an inertia specified in the URDF, but KDL does not support a root link with an inertia.  As a workaround, you can add an extra dummy link to your URDF.\n",
      "/home/lmjohann/urdf2casadi/examples/timing/urdf4timing/59dof.urdf\n",
      "The root link base_link has an inertia specified in the URDF, but KDL does not support a root link with an inertia.  As a workaround, you can add an extra dummy link to your URDF.\n",
      "/home/lmjohann/urdf2casadi/examples/timing/urdf4timing/60dof.urdf\n"
     ]
    }
   ],
   "source": [
    "#pbmodel = pb.loadURDF(\"pantilt.urdf\")\n",
    "sim = pb.connect(pb.DIRECT)\n",
    "#pbmodel = pb.loadURDF(\"/urdf4timing/1dof.urdf\")\n",
    "ndofs = 60\n",
    "urdf_nr = list(range(ndofs + 1))\n",
    "urdf_nr.pop(0)\n",
    "\n",
    "#storage for timing data\n",
    "mediantime_kdl = [None]*ndofs\n",
    "mediantime_u2c = [None]*ndofs\n",
    "mediantime_rbdl = [None]*ndofs\n",
    "mediantime_pb = [None]*ndofs\n",
    "mintime_kdl = [None]*ndofs\n",
    "mintime_u2c = [None]*ndofs\n",
    "mintime_rbdl = [None]*ndofs\n",
    "mintime_pb = [None]*ndofs\n",
    "averagetime_kdl = [None]*ndofs\n",
    "averagetime_u2c = [None]*ndofs\n",
    "averagetime_rbdl = [None]*ndofs\n",
    "averagetime_pb = [None]*ndofs\n",
    "\n",
    "nitr = 10\n",
    "nrepeat = 100\n",
    "    \n",
    "for i in range(ndofs):    \n",
    "    path_to_urdf = \"/home/lmjohann/urdf2casadi/examples/timing/urdf4timing/\" + str(urdf_nr[i]) + \"dof.urdf\"\n",
    "    root = 'base_link'\n",
    "    tip = \"link\" + str(urdf_nr[i])\n",
    "    #path_to_urdf = str(urdf_nr[i]) + \"dof.urdf\"\n",
    "\n",
    "    \n",
    "    ok, kdl_tree = kdlurdf.treeFromFile(path_to_urdf)\n",
    "    kdlmodel = kdl_tree.getChain(root,tip)\n",
    "    \n",
    "    rbdlmodel = rbdl.loadModel(path_to_urdf)\n",
    "    pbmodel = pb.loadURDF(path_to_urdf, useFixedBase=True, flags = pb.URDF_USE_INERTIA_FROM_FILE)\n",
    "    asd = u2c.URDFparser()\n",
    "    robot_desc = asd.from_file(path_to_urdf)\n",
    "    \n",
    "    jlist, names, qmax, qmin = asd.get_joint_info(root, tip)\n",
    "    njoints = asd.get_n_joints(root, tip)\n",
    "\n",
    "    gravity_kdl = kdl.Vector()\n",
    "    gravity_kdl[2] = -9.81\n",
    "    gravity_u2c = [0, 0, -9.81]\n",
    "    \n",
    "    #rbdl declarations\n",
    "    q_np = np.zeros(njoints)\n",
    "    qdot_np = np.zeros(njoints)\n",
    "    qddot_np = np.zeros(njoints)\n",
    "    g_rbdl = np.zeros(njoints)\n",
    "    \n",
    "    #kdl declatations\n",
    "    q_kdl = kdl.JntArray(njoints)\n",
    "    g_kdl = kdl.JntArray(njoints)\n",
    "    \n",
    "    #u2c and pybullet declarations\n",
    "    q_none = [None]*njoints\n",
    "    g_pb = [None]*njoints\n",
    "    \n",
    "    qddot = []\n",
    "    for i in range(njoints):\n",
    "        qddot.append(0.)\n",
    "        \n",
    "    qdot = []\n",
    "    for i in range(njoints):\n",
    "        qdot.append(0.)\n",
    "        \n",
    "    g_u2c = asd.get_gravity_rnea(root, tip, gravity_u2c)\n",
    "    timeit_u2c = repeat(\"g_u2c_func()\", setup = \"from __main__ import g_u2c_func\", repeat = nrepeat, number = nitr)\n",
    "    mintime_u2c[i] = min(timeit_u2c)/nitr*1000000\n",
    "    mediantime_u2c[i] = median(timeit_u2c)/nitr*1000000\n",
    "    averagetime_u2c[i] = average(timeit_u2c)/nitr*1000000\n",
    "    \n",
    "    #timeit_pb = repeat(\"g_pb_func()\", setup = \"from __main__ import g_pb_func\", repeat = nrepeat, number = nitr)\n",
    "    #mintime_pb[i] = min(timeit_pb)/nitr*1000000\n",
    "    #mediantime_pb[i] = median(timeit_pb)/nitr*1000000\n",
    "    #averagetime_pb[i] = average(timeit_pb)/nitr*1000000\n",
    "    \n",
    "    #timeit_rbdl = repeat(\"g_rbdl_func()\", setup = \"from __main__ import g_rbdl_func\", repeat = nrepeat, number = nitr)\n",
    "    #mintime_rbdl[i] = min(timeit_rbdl)/nitr*1000000\n",
    "    #mediantime_rbdl[i] = median(timeit_rbdl)/nitr*1000000\n",
    "    #averagetime_rbdl[i] = average(timeit_rbdl)/nitr*1000000\n",
    "    \n",
    "    #timeit_kdl = repeat(\"g_kdl_func()\", setup = \"from __main__ import g_kdl_func\", repeat = nrepeat, number = nitr)\n",
    "    #mintime_kdl[i] = min(timeit_kdl)/nitr*1000000\n",
    "    #mediantime_kdl[i] = median(timeit_kdl)/nitr*1000000\n",
    "    #averagetime_kdl[i] = average(timeit_kdl)/nitr*1000000\n",
    "    \n",
    "\n"
   ]
  },
  {
   "cell_type": "code",
   "execution_count": 18,
   "metadata": {},
   "outputs": [
    {
     "data": {
      "image/png": "[encoded data removed]",
      "text/plain": [
       "<Figure size 720x720 with 1 Axes>"
      ]
     },
     "metadata": {},
     "output_type": "display_data"
    }
   ],
   "source": [
    "import matplotlib.pyplot as plt\n",
    "import pandas as pd\n",
    "\n",
    "joint_nr = list(range(ndofs + 1))\n",
    "joint_nr.pop(0)\n",
    "med_fig = plt.figure(figsize = (10, 10))\n",
    "plt.scatter(joint_nr, mintime_u2c, label='u2c')\n",
    "plt.xlabel(\"number of joints\")\n",
    "plt.ylabel(\"time (sek)\")\n",
    "plt.ylim(0, 80)\n",
    "plt.legend(loc='upper left')\n",
    "med_fig.show()\n",
    "\n"
   ]
  },
  {
   "cell_type": "code",
   "execution_count": 16,
   "metadata": {},
   "outputs": [
    {
     "name": "stdout",
     "output_type": "stream",
     "text": [
      "[15.187263488769531, 16.498565673828125, 17.595291137695312, 16.78466796875, 17.499923706054688, 17.881393432617188, 18.405914306640625, 18.906593322753906, 19.788742065429688, 20.48015594482422, 22.19676971435547, 22.077560424804688, 22.31597900390625, 23.508071899414062, 23.889541625976562, 24.700164794921875, 25.48694610595703, 26.702880859375, 26.82209014892578, 27.608871459960938, 28.204917907714844, 29.993057250976562, 30.088424682617188, 30.39836883544922, 31.113624572753906, 31.900405883789066, 32.401084899902344, 33.092498779296875, 33.99848937988281, 34.499168395996094, 35.59589385986328, 35.90583801269531, 36.81182861328125, 37.90855407714844, 38.09928894042969, 42.48619079589844, 39.696693420410156, 39.79206085205078, 40.793418884277344, 41.294097900390625, 41.985511779785156, 42.29545593261719, 43.29681396484375, 43.892860412597656, 44.417381286621094, 45.299530029296875, 45.70484161376953, 46.80156707763672, 47.087669372558594, 47.397613525390625, 48.30360412597656, 49.185752868652344, 49.686431884765625, 49.996376037597656, 50.99773406982422, 51.80835723876953, 51.903724670410156, 52.90508270263672, 53.40576171875, 53.811073303222656]\n"
     ]
    }
   ],
   "source": [
    "print mintime_u2c"
   ]
  },
  {
   "cell_type": "code",
   "execution_count": 9,
   "metadata": {},
   "outputs": [
    {
     "data": {
      "image/png": "[encoded data removed]",
      "text/plain": [
       "<Figure size 720x720 with 1 Axes>"
      ]
     },
     "metadata": {},
     "output_type": "display_data"
    }
   ],
   "source": [
    "import matplotlib.pyplot as plt\n",
    "import pandas as pd\n",
    "\n",
    "joint_nr = list(range(ndofs + 1))\n",
    "joint_nr.pop(0)\n",
    "med_fig = plt.figure(figsize = (10, 10))\n",
    "plt.scatter(joint_nr, mediantime_kdl, label='KDL')\n",
    "#plt.scatter(joint_nr, mediantime_u2c, c='hotpink', label='u2c')\n",
    "plt.scatter(joint_nr, mintime_u2c, label='u2c')\n",
    "plt.scatter(joint_nr, mediantime_rbdl, label='RBDL')\n",
    "plt.scatter(joint_nr, mediantime_pb, label='pybullet')\n",
    "plt.xlabel(\"number of joints\")\n",
    "plt.ylabel(\"time (sek)\")\n",
    "plt.ylim(0, 80)\n",
    "plt.legend(loc='upper left')\n",
    "med_fig.show()\n",
    "\n"
   ]
  },
  {
   "cell_type": "code",
   "execution_count": 8,
   "metadata": {},
   "outputs": [
    {
     "data": {
      "text/plain": [
       "[Text(0,0,'pybullet'), Text(0,0,'RBDL'), Text(0,0,'U2C'), Text(0,0,'KDL')]"
      ]
     },
     "execution_count": 8,
     "metadata": {},
     "output_type": "execute_result"
    },
    {
     "data": {
      "image/png": "[encoded data removed]",
      "text/plain": [
       "<Figure size 576x576 with 1 Axes>"
      ]
     },
     "metadata": {},
     "output_type": "display_data"
    }
   ],
   "source": [
    "timing_scores = [mediantime_pb, mediantime_rbdl, mediantime_u2c, mediantime_kdl]\n",
    "names = [\"pybullet\", \"RBDL\", \"U2C\", \"KDL\"]#, \"RBDL\", \"pybullet\"]\n",
    "boxplot = plt.figure(figsize = (8, 8))\n",
    "boxplot.suptitle(\"Library Timing Comparison\")\n",
    "ax = boxplot.add_subplot(111)\n",
    "ax.boxplot(timing_scores)\n",
    "#plt.boxplot(timing_scores)\n",
    "ax.set_xticklabels(names)\n"
   ]
  },
  {
   "cell_type": "code",
   "execution_count": 7,
   "metadata": {},
   "outputs": [
    {
     "name": "stdout",
     "output_type": "stream",
     "text": [
      "mediantime_u2c =  [0.005529472827911377, 0.006809735298156738, 0.007175900936126709, 0.0077907776832580565, 0.00829638957977295, 0.008940403461456298, 0.009464142322540283, 0.009849491119384766, 0.010562646389007568, 0.01095331907272339, 0.011550712585449218, 0.01205876111984253, 0.012691278457641602, 0.01276979684829712, 0.013765852451324462, 0.014242343902587891, 0.014812791347503662, 0.01520984411239624, 0.015697948932647705, 0.01641841173171997, 0.017267060279846192, 0.018248791694641112, 0.018168148994445802, 0.019169392585754393, 0.019362385272979735, 0.020118632316589356, 0.021027424335479737, 0.020604279041290283, 0.02177851438522339, 0.021955745220184328, 0.023315625190734865, 0.0233111310005188, 0.024440312385559083, 0.024415969848632812, 0.025214636325836183, 0.02566841125488281, 0.026883277893066406, 0.02690901517868042, 0.028317630290985107, 0.02758955955505371, 0.029367387294769287, 0.029562668800354006, 0.030113325119018555, 0.030049929618835448, 0.031397907733917235, 0.03070406913757324, 0.031909456253051756, 0.03213044643402099, 0.03287048578262329, 0.03311575412750244, 0.033340349197387695, 0.034287378787994385, 0.03439366340637207, 0.03562764883041382, 0.0359259033203125, 0.03623834133148193, 0.03656559467315674, 0.03756097555160522, 0.03851822137832642, 0.039279298782348634]\n",
      "mediantime_kdl =  [0.0038357138633728026, 0.005305647850036621, 0.007698192596435547, 0.00842416763305664, 0.010901355743408203, 0.012145826816558838, 0.0133223295211792, 0.014325551986694336, 0.01749695301055908, 0.018587660789489747, 0.020375888347625732, 0.022024636268615724, 0.022582294940948485, 0.023733305931091308, 0.024401531219482422, 0.023799991607666014, 0.02630746364593506, 0.02833914041519165, 0.028336141109466553, 0.030341396331787108, 0.030964453220367432, 0.03215212106704712, 0.034600629806518554, 0.033999090194702146, 0.035706915855407716, 0.03698373079299927, 0.037346930503845216, 0.03847471952438355, 0.03972282886505127, 0.04101938724517822, 0.04214124202728271, 0.043002302646636965, 0.048831305503845214, 0.04998097896575928, 0.05092024803161621, 0.052068257331848146, 0.053529152870178225, 0.05438394546508789, 0.055241596698760984, 0.05678260803222656, 0.059306974411010745, 0.05848400115966797, 0.060490915775299074, 0.06087111711502075, 0.06277466297149659, 0.06417330265045167, 0.06439862489700317, 0.06530458927154541, 0.06596392393112183, 0.06758105278015136, 0.06810322046279907, 0.07016756534576415, 0.07081200122833252, 0.0719815993309021, 0.07302575826644897, 0.07377649068832398, 0.07533126115798951, 0.07817374706268311, 0.07852348089218139, 0.07882068157196045]\n",
      "mediantime_rbdl =  [0.002374606132507324, 0.0032108783721923827, 0.0039236021041870114, 0.00479036808013916, 0.005509002208709717, 0.006341042518615722, 0.007135868072509766, 0.008132548332214355, 0.00901064395904541, 0.00965226411819458, 0.0105578875541687, 0.011405014991760254, 0.012382495403289794, 0.013136789798736573, 0.014110348224639892, 0.01502436876296997, 0.015877094268798828, 0.016514391899108888, 0.017251763343811035, 0.018253695964813233, 0.019114110469818115, 0.02011986494064331, 0.020974493026733397, 0.021523876190185545, 0.02266432046890259, 0.023577570915222168, 0.024190232753753663, 0.02487872838973999, 0.026125109195709227, 0.02762578010559082, 0.02867181062698364, 0.02832266330718994, 0.029303653240203856, 0.03135446071624756, 0.03273613452911377, 0.03162386655807495, 0.03281143665313721, 0.0339482593536377, 0.03529504299163819, 0.03570797920227051, 0.03650183439254761, 0.03764961957931519, 0.03877591848373413, 0.03926527500152588, 0.04043872594833374, 0.04117545127868652, 0.042145411968231204, 0.04269743919372559, 0.04335010051727295, 0.04343798160552979, 0.04501125574111939, 0.0456052303314209, 0.046178658008575436, 0.04691054105758667, 0.048045477867126464, 0.04906139135360718, 0.04968689203262329, 0.05194620609283447, 0.0528057861328125, 0.05372889518737793]\n",
      "mediantime_pb =  [0.0018095755577087402, 0.002475109100341797, 0.003139989376068115, 0.003834383487701416, 0.0045010256767272945, 0.005107426643371582, 0.005926432609558105, 0.006471765041351318, 0.007154989242553711, 0.007872254848480224, 0.008479957580566405, 0.009129445552825927, 0.009955053329467773, 0.010631892681121826, 0.011319694519042968, 0.011981468200683593, 0.012754757404327393, 0.013193230628967285, 0.01381275177001953, 0.014689686298370362, 0.015489659309387206, 0.016187498569488524, 0.016861143112182616, 0.01738342523574829, 0.017999346256256103, 0.01874884605407715, 0.019566819667816163, 0.01997016668319702, 0.020650088787078857, 0.021367990970611574, 0.022234876155853272, 0.023235337734222414, 0.02358630418777466, 0.024453125, 0.025355980396270753, 0.02567467451095581, 0.026227688789367674, 0.027818915843963624, 0.028383493423461914, 0.029031071662902832, 0.029529759883880614, 0.029992406368255616, 0.03054370641708374, 0.03140413761138916, 0.03193591833114624, 0.03235605955123901, 0.03339998006820679, 0.033852479457855224, 0.03460090160369873, 0.03558570146560669, 0.03589580535888672, 0.03680224895477295, 0.03776356935501099, 0.03818687677383423, 0.03900727987289429, 0.04004970788955688, 0.04052453279495239, 0.0416756272315979, 0.04304287672042847, 0.04277008056640625]\n"
     ]
    }
   ],
   "source": [
    "print \"mediantime_u2c = \", averagetime_u2c\n",
    "\n",
    "print \"mediantime_kdl = \", averagetime_kdl\n",
    "\n",
    "print \"mediantime_rbdl = \", averagetime_rbdl\n",
    "\n",
    "print \"mediantime_pb = \", averagetime_pb"
   ]
  },
  {
   "cell_type": "code",
   "execution_count": null,
   "metadata": {},
   "outputs": [],
   "source": []
  }
 ],
 "metadata": {
  "kernelspec": {
   "display_name": "Python 2",
   "language": "python",
   "name": "python2"
  },
  "language_info": {
   "codemirror_mode": {
    "name": "ipython",
    "version": 2
   },
   "file_extension": ".py",
   "mimetype": "text/x-python",
   "name": "python",
   "nbconvert_exporter": "python",
   "pygments_lexer": "ipython2",
   "version": "2.7.12"
  }
 },
 "nbformat": 4,
 "nbformat_minor": 2
}
