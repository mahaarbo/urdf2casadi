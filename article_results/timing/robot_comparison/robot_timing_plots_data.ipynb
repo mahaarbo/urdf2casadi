{
 "cells": [
  {
   "cell_type": "markdown",
   "metadata": {},
   "source": [
    "# ur5 data"
   ]
  },
  {
   "cell_type": "code",
   "execution_count": 1,
   "metadata": {},
   "outputs": [],
   "source": [
    "\n",
    "ur5_g_u2c= 15.5695676804\n",
    "\n",
    "ur5_id_u2c= 36.0180139542\n",
    "\n",
    "ur5_c_u2c= 26.1030197144\n",
    "\n",
    "ur5_m_u2c= 16.0989761353\n",
    "\n",
    "ur5_fd_crba_u2c = 38.1915569305\n",
    "\n",
    "\n",
    "ur5_fd_aba_u2c = 36.504983902\n",
    "\n",
    "\n",
    "ur5_g_rbdl= 6.24589920044\n",
    "\n",
    "ur5_id_rbdl= 11.6729736328\n",
    "\n",
    "ur5_c_rbdl= 9.0437412262\n",
    "\n",
    "ur5_m_rbdl= 5.2524805069\n",
    "\n",
    "ur5_fd_rbdl= 13.1685733795\n",
    "\n",
    "\n",
    "\n",
    "ur5_g_pb= 5.05352020264\n",
    "\n",
    "ur5_id_pb= 10.267496109\n",
    "\n",
    "ur5_c_pb= 7.68256187439\n",
    "\n",
    "ur5_m_pb= 5.52606582642\n",
    "\n",
    "\n",
    "\n",
    "ur5_g_kdl= 13.2888555527\n",
    "\n",
    "ur5_c_kdl= 16.2860155106\n",
    "\n",
    "ur5_m_kdl= 13.2323980331\n",
    "\n"
   ]
  },
  {
   "cell_type": "markdown",
   "metadata": {},
   "source": [
    "# pendulum data"
   ]
  },
  {
   "cell_type": "code",
   "execution_count": 2,
   "metadata": {},
   "outputs": [],
   "source": [
    "pendulum_g_u2c= 12.6429796219\n",
    "\n",
    "pendulum_id_u2c= 28.8081169128\n",
    "\n",
    "pendulum_c_u2c= 20.6830501556\n",
    "\n",
    "pendulum_m_u2c= 13.1369829178\n",
    "\n",
    "pendulum_fd_crba_u2c= 28.9306640625\n",
    "\n",
    "pendulum_fd_aba_u2c = 28.787612915\n",
    "\n",
    "\n",
    "\n",
    "pendulum_g_rbdl= 3.12447547913\n",
    "\n",
    "pendulum_id_rbdl= 4.97353076935\n",
    "\n",
    "pendulum_c_rbdl= 3.80349159241\n",
    "\n",
    "pendulum_m_rbdl= 2.2839307785\n",
    "\n",
    "pendulum_fd_rbdl = 5.0630569458\n",
    "\n",
    "\n",
    "\n",
    "pendulum_g_pb= 2.42102146149\n",
    "\n",
    "pendulum_id_pb= 4.06110286713\n",
    "\n",
    "pendulum_c_pb= 3.21304798126\n",
    "\n",
    "pendulum_m_pb= 2.17294692993\n",
    "\n",
    "\n",
    "\n",
    "pendulum_g_kdl= 4.97484207153\n",
    "\n",
    "pendulum_c_kdl= 5.91897964478\n",
    "\n",
    "pendulum_m_kdl= 4.7914981842"
   ]
  },
  {
   "cell_type": "markdown",
   "metadata": {},
   "source": [
    "# snake data"
   ]
  },
  {
   "cell_type": "code",
   "execution_count": 3,
   "metadata": {},
   "outputs": [],
   "source": [
    "snake_g_u2c= 22.6119756699\n",
    "\n",
    "snake_id_u2c= 53.5010099411\n",
    "\n",
    "snake_c_u2c= 39.0934944153\n",
    "\n",
    "snake_m_u2c= 23.6259698868\n",
    "\n",
    "snake_fd_crba_u2c = 68.923830986\n",
    "\n",
    "snake_fd_aba_u2c = 54.648399353\n",
    "\n",
    "\n",
    "\n",
    "snake_g_rbdl= 14.4485235214\n",
    "\n",
    "snake_id_rbdl= 30.1619768143\n",
    "\n",
    "snake_c_rbdl= 21.6618776321\n",
    "\n",
    "snake_m_rbdl= 13.9759778976\n",
    "\n",
    "snake_fd_rbdl= 32.3973894119\n",
    "\n",
    "\n",
    "\n",
    "snake_g_pb= 11.7310285568\n",
    "\n",
    "snake_id_pb= 26.3245105743\n",
    "\n",
    "snake_c_pb= 19.0000534058\n",
    "\n",
    "snake_m_pb= 15.9994363785\n",
    "\n",
    "\n",
    "\n",
    "\n",
    "snake_g_kdl= 22.5989818573\n",
    "\n",
    "snake_c_kdl= 31.1254262924\n",
    "\n",
    "snake_m_kdl= 25.3779888153\n",
    "\n"
   ]
  },
  {
   "cell_type": "markdown",
   "metadata": {},
   "source": [
    "# Plots \n",
    "## Library comparison plots for different robots:"
   ]
  },
  {
   "cell_type": "markdown",
   "metadata": {},
   "source": [
    "## 3 robots:"
   ]
  },
  {
   "cell_type": "code",
   "execution_count": 4,
   "metadata": {},
   "outputs": [],
   "source": [
    "palette1 = [\"#AA8439\", \"#7B9F35\", \"#882D61\", \"#2E4272\"]\n",
    "palette2 = [\"#DA9815\", \"#8ECB14\", \"#AF116A\", \"#1C4092\"] \n",
    "palette3 = [\"#FFAA00\", \"#A0F000\", \"#D30077\", \"#0B3FB5\"]\n",
    "\n",
    "\n",
    "c1 = [\"#802B67\", \"#AA8039\", \"#2C4870\", \"#84A136\"]\n",
    "      \n",
    "c2 = [ \"#2D0320\", \"#3C2704\",\"#061327\", \"#2A3803\"]  \n",
    "\n",
    "c3 = [ \"#571142\", \"#735117\",\"#142B4C\", \"#556D15\"]  \n",
    "\n",
    "c4 = [ \"#AA508F\", \"#E1B56A\",\"#4D6A95\", \"#B7D564\"]  \n",
    "\n",
    "c5 = [ \"#D380BA\", \"#FFDA9A\",\"#7C98C2\", \"#DCF594\"]  "
   ]
  },
  {
   "cell_type": "code",
   "execution_count": 5,
   "metadata": {},
   "outputs": [],
   "source": [
    "from bokeh.core.properties import value\n",
    "from bokeh.io import show, output_file\n",
    "from bokeh.models import ColumnDataSource\n",
    "from bokeh.plotting import figure, save\n",
    "from bokeh.transform import dodge\n",
    "from bokeh.models import ColumnDataSource, ranges, LabelSet\n",
    "from bokeh.layouts import column, row\n",
    "from bokeh.io import export_png\n"
   ]
  },
  {
   "cell_type": "code",
   "execution_count": 101,
   "metadata": {},
   "outputs": [
    {
     "data": {
      "text/plain": [
       "'/home/lillmaria/urdf2casadi/examples/timing/robot_comparison/plots/ur5_hist_60.png'"
      ]
     },
     "execution_count": 101,
     "metadata": {},
     "output_type": "execute_result"
    }
   ],
   "source": [
    "\n",
    "\n",
    "output_file(\"dodged_bars.html\")\n",
    "\n",
    "dynamics = ['G', 'C', 'ID', 'M', 'FD']\n",
    "libraries = ['PyBullet', 'RBDL', 'u2c', 'KDL']\n",
    "\n",
    "data = {'dynamics' : dynamics,\n",
    "        'PyBullet'   : [ur5_g_pb, ur5_c_pb, ur5_id_pb, ur5_m_pb, 0],\n",
    "        'RBDL'   : [ur5_g_rbdl, ur5_c_rbdl, ur5_id_rbdl, ur5_m_rbdl, ur5_fd_rbdl],\n",
    "        'u2c'   : [ur5_g_u2c, ur5_c_u2c, ur5_id_u2c, ur5_m_u2c, ur5_fd_aba_u2c],\n",
    "        'KDL'   : [ur5_g_kdl, ur5_c_kdl, 0, ur5_m_kdl, 0]}\n",
    "\n",
    "\n",
    "source = ColumnDataSource(data=data)\n",
    "\n",
    "ur5_hist = figure(x_range=dynamics, y_range=(0, 60), plot_height=240, title= \"6-dof UR5\",\n",
    "           toolbar_location=None, tools=\"\", plot_width = 680)\n",
    "\n",
    "ur5_hist.vbar(x=dodge('dynamics', -0.27, range=ur5_hist.x_range), top='PyBullet', width=0.1655, source=source,\n",
    "       color=c4[1], legend=value(\"PyBullet\"))\n",
    "\n",
    "ur5_hist.vbar(x=dodge('dynamics',  -0.09,  range=ur5_hist.x_range), top='RBDL', width=0.1655, source=source,\n",
    "       color=c4[3], legend=value(\"RBDL\"))\n",
    "\n",
    "ur5_hist.vbar(x=dodge('dynamics',  0.09, range=ur5_hist.x_range), top='u2c', width=0.1655, source=source,\n",
    "       color=c4[0], legend=value(\"u2c\"))\n",
    "\n",
    "ur5_hist.vbar(x=dodge('dynamics',  0.27, range=ur5_hist.x_range), top='KDL', width=0.1655, source=source,\n",
    "       color = c4[2], legend=value(\"KDL\"))\n",
    "\n",
    "ur5_hist.x_range.range_padding = 0.\n",
    "ur5_hist.xgrid.grid_line_color = None\n",
    "ur5_hist.legend.location = \"top_left\"\n",
    "ur5_hist.legend.orientation = \"horizontal\"\n",
    "ur5_hist.yaxis.axis_label = 'median evaluation time [us]'\n",
    "ur5_hist.axis.minor_tick_line_color = None\n",
    "#ur5_hist.yaxis.axis_label = 'computation time [us]'\n",
    "#show(ur5_hist)\n",
    "export_png(ur5_hist, filename=\"plots/ur5_hist_60.png\")"
   ]
  },
  {
   "cell_type": "code",
   "execution_count": 103,
   "metadata": {},
   "outputs": [
    {
     "data": {
      "text/plain": [
       "'/home/lillmaria/urdf2casadi/examples/timing/robot_comparison/plots/ur5_hist_40.png'"
      ]
     },
     "execution_count": 103,
     "metadata": {},
     "output_type": "execute_result"
    }
   ],
   "source": [
    "\n",
    "\n",
    "output_file(\"dodged_bars.html\")\n",
    "\n",
    "dynamics = ['G', 'C', 'ID', 'M', 'FD']\n",
    "libraries = ['PyBullet', 'RBDL', 'u2c', 'KDL']\n",
    "\n",
    "data = {'dynamics' : dynamics,\n",
    "        'PyBullet'   : [ur5_g_pb, ur5_c_pb, ur5_id_pb, ur5_m_pb, 0],\n",
    "        'RBDL'   : [ur5_g_rbdl, ur5_c_rbdl, ur5_id_rbdl, ur5_m_rbdl, ur5_fd_rbdl],\n",
    "        'u2c'   : [ur5_g_u2c, ur5_c_u2c, ur5_id_u2c, ur5_m_u2c, ur5_fd_aba_u2c],\n",
    "        'KDL'   : [ur5_g_kdl, ur5_c_kdl, 0, ur5_m_kdl, 0]}\n",
    "\n",
    "\n",
    "source = ColumnDataSource(data=data)\n",
    "\n",
    "ur5_hist = figure(x_range=dynamics, y_range=(0, 40), plot_height=240, title= \"6-dof UR5\",\n",
    "           toolbar_location=None, tools=\"\", plot_width = 680)\n",
    "\n",
    "ur5_hist.vbar(x=dodge('dynamics', -0.27, range=ur5_hist.x_range), top='PyBullet', width=0.1655, source=source,\n",
    "       color=c4[1], legend=value(\"PyBullet\"))\n",
    "\n",
    "ur5_hist.vbar(x=dodge('dynamics',  -0.09,  range=ur5_hist.x_range), top='RBDL', width=0.1655, source=source,\n",
    "       color=c4[3], legend=value(\"RBDL\"))\n",
    "\n",
    "ur5_hist.vbar(x=dodge('dynamics',  0.09, range=ur5_hist.x_range), top='u2c', width=0.1655, source=source,\n",
    "       color=c4[0], legend=value(\"u2c\"))\n",
    "\n",
    "ur5_hist.vbar(x=dodge('dynamics',  0.27, range=ur5_hist.x_range), top='KDL', width=0.1655, source=source,\n",
    "       color = c4[2], legend=value(\"KDL\"))\n",
    "\n",
    "ur5_hist.x_range.range_padding = 0.\n",
    "ur5_hist.xgrid.grid_line_color = None\n",
    "ur5_hist.legend.location = \"top_left\"\n",
    "ur5_hist.legend.orientation = \"horizontal\"\n",
    "ur5_hist.yaxis.axis_label = 'median evaluation time [us]'\n",
    "ur5_hist.axis.minor_tick_line_color = None\n",
    "#ur5_hist.yaxis.axis_label = 'computation time [us]'\n",
    "#show(ur5_hist)\n",
    "export_png(ur5_hist, filename=\"plots/ur5_hist_40.png\")"
   ]
  },
  {
   "cell_type": "code",
   "execution_count": 104,
   "metadata": {},
   "outputs": [
    {
     "data": {
      "text/plain": [
       "'/home/lillmaria/urdf2casadi/examples/timing/robot_comparison/plots/pendulum_hist_60.png'"
      ]
     },
     "execution_count": 104,
     "metadata": {},
     "output_type": "execute_result"
    }
   ],
   "source": [
    "\n",
    "\n",
    "output_file(\"dodged_bars.html\")\n",
    "\n",
    "dynamics = ['G', 'C', 'ID', 'M', 'FD']\n",
    "libraries = ['PyBullet', 'RBDL', 'u2c', 'KDL']\n",
    "\n",
    "data = {'dynamics' : dynamics,\n",
    "        'PyBullet'   : [pendulum_g_pb, pendulum_c_pb, pendulum_id_pb, pendulum_m_pb, 0],\n",
    "        'RBDL'   : [pendulum_g_rbdl, pendulum_c_rbdl, pendulum_id_rbdl, pendulum_m_rbdl, pendulum_fd_rbdl],\n",
    "        'u2c'   : [pendulum_g_u2c, pendulum_c_u2c, pendulum_id_u2c, pendulum_m_u2c, pendulum_fd_aba_u2c],\n",
    "        'KDL'   : [pendulum_g_kdl, pendulum_c_kdl, 0, pendulum_m_kdl, 0]}\n",
    "\n",
    "\n",
    "source = ColumnDataSource(data=data)\n",
    "\n",
    "pendulum_hist = figure(x_range=dynamics, y_range=(0, 60), plot_height=240, title= \"2-dof pendulum\",\n",
    "           toolbar_location=None, tools=\"\", plot_width = 680)\n",
    "\n",
    "pendulum_hist.vbar(x=dodge('dynamics', -0.27, range=pendulum_hist.x_range), top='PyBullet', width=0.1655, source=source,\n",
    "       color=c4[1], legend=value(\"PyBullet\"))\n",
    "\n",
    "pendulum_hist.vbar(x=dodge('dynamics',  -0.09,  range=pendulum_hist.x_range), top='RBDL', width=0.1655, source=source,\n",
    "       color=c4[3], legend=value(\"RBDL\"))\n",
    "\n",
    "pendulum_hist.vbar(x=dodge('dynamics',  0.09, range=pendulum_hist.x_range), top='u2c', width=0.1655, source=source,\n",
    "       color=c4[0], legend=value(\"u2c\"))\n",
    "\n",
    "pendulum_hist.vbar(x=dodge('dynamics',  0.27, range=pendulum_hist.x_range), top='KDL', width=0.1655, source=source,\n",
    "       color = c4[2], legend=value(\"KDL\"))\n",
    "\n",
    "pendulum_hist.x_range.range_padding = 0.\n",
    "pendulum_hist.xgrid.grid_line_color = None\n",
    "pendulum_hist.legend.location = \"top_left\"\n",
    "pendulum_hist.legend.orientation = \"horizontal\"\n",
    "pendulum_hist.yaxis.axis_label = 'median evaluation time [us]'\n",
    "pendulum_hist.axis.minor_tick_line_color = None\n",
    "#pendulum_hist.yaxis.axis_label = 'computation time [us]'\n",
    "#show(pendulum_hist)\n",
    "export_png(pendulum_hist, filename=\"plots/pendulum_hist_60.png\")"
   ]
  },
  {
   "cell_type": "code",
   "execution_count": 105,
   "metadata": {},
   "outputs": [
    {
     "data": {
      "text/plain": [
       "'/home/lillmaria/urdf2casadi/examples/timing/robot_comparison/plots/pendulum_hist_30.png'"
      ]
     },
     "execution_count": 105,
     "metadata": {},
     "output_type": "execute_result"
    }
   ],
   "source": [
    "\n",
    "\n",
    "output_file(\"dodged_bars.html\")\n",
    "\n",
    "dynamics = ['G', 'C', 'ID', 'M', 'FD']\n",
    "libraries = ['PyBullet', 'RBDL', 'u2c', 'KDL']\n",
    "\n",
    "data = {'dynamics' : dynamics,\n",
    "        'PyBullet'   : [pendulum_g_pb, pendulum_c_pb, pendulum_id_pb, pendulum_m_pb, 0],\n",
    "        'RBDL'   : [pendulum_g_rbdl, pendulum_c_rbdl, pendulum_id_rbdl, pendulum_m_rbdl, pendulum_fd_rbdl],\n",
    "        'u2c'   : [pendulum_g_u2c, pendulum_c_u2c, pendulum_id_u2c, pendulum_m_u2c, pendulum_fd_aba_u2c],\n",
    "        'KDL'   : [pendulum_g_kdl, pendulum_c_kdl, 0, pendulum_m_kdl, 0]}\n",
    "\n",
    "\n",
    "source = ColumnDataSource(data=data)\n",
    "\n",
    "pendulum_hist = figure(x_range=dynamics, y_range=(0, 30), plot_height=240, title= \"2-dof pendulum\",\n",
    "           toolbar_location=None, tools=\"\", plot_width = 680)\n",
    "\n",
    "pendulum_hist.vbar(x=dodge('dynamics', -0.27, range=pendulum_hist.x_range), top='PyBullet', width=0.1655, source=source,\n",
    "       color=c4[1], legend=value(\"PyBullet\"))\n",
    "\n",
    "pendulum_hist.vbar(x=dodge('dynamics',  -0.09,  range=pendulum_hist.x_range), top='RBDL', width=0.1655, source=source,\n",
    "       color=c4[3], legend=value(\"RBDL\"))\n",
    "\n",
    "pendulum_hist.vbar(x=dodge('dynamics',  0.09, range=pendulum_hist.x_range), top='u2c', width=0.1655, source=source,\n",
    "       color=c4[0], legend=value(\"u2c\"))\n",
    "\n",
    "pendulum_hist.vbar(x=dodge('dynamics',  0.27, range=pendulum_hist.x_range), top='KDL', width=0.1655, source=source,\n",
    "       color = c4[2], legend=value(\"KDL\"))\n",
    "\n",
    "pendulum_hist.x_range.range_padding = 0.\n",
    "pendulum_hist.xgrid.grid_line_color = None\n",
    "pendulum_hist.legend.location = \"top_left\"\n",
    "pendulum_hist.legend.orientation = \"horizontal\"\n",
    "pendulum_hist.yaxis.axis_label = 'median evaluation time [us]'\n",
    "pendulum_hist.axis.minor_tick_line_color = None\n",
    "#pendulum_hist.yaxis.axis_label = 'computation time [us]'\n",
    "#show(pendulum_hist)\n",
    "export_png(pendulum_hist, filename=\"plots/pendulum_hist_30.png\")"
   ]
  },
  {
   "cell_type": "code",
   "execution_count": 107,
   "metadata": {},
   "outputs": [
    {
     "data": {
      "text/plain": [
       "'/home/lillmaria/urdf2casadi/examples/timing/robot_comparison/plots/snake_hist_60.png'"
      ]
     },
     "execution_count": 107,
     "metadata": {},
     "output_type": "execute_result"
    }
   ],
   "source": [
    "\n",
    "\n",
    "output_file(\"dodged_bars.html\")\n",
    "\n",
    "dynamics = ['G', 'C', 'ID', 'M', 'FD']\n",
    "libraries = ['PyBullet', 'RBDL', 'u2c', 'KDL']\n",
    "\n",
    "data = {'dynamics' : dynamics,\n",
    "        'PyBullet'   : [snake_g_pb, snake_c_pb, snake_id_pb, snake_m_pb, 0],\n",
    "        'RBDL'   : [snake_g_rbdl, snake_c_rbdl, snake_id_rbdl, snake_m_rbdl, snake_fd_rbdl],\n",
    "        'u2c'   : [snake_g_u2c, snake_c_u2c, snake_id_u2c, snake_m_u2c, snake_fd_aba_u2c],\n",
    "        'KDL'   : [snake_g_kdl, snake_c_kdl, 0, snake_m_kdl, 0]}\n",
    "\n",
    "\n",
    "source = ColumnDataSource(data=data)\n",
    "\n",
    "snake_hist = figure(x_range=dynamics, y_range=(0, 60), plot_height=240, title= \"16-dof snake\",\n",
    "           toolbar_location=None, tools=\"\", plot_width = 680)\n",
    "\n",
    "snake_hist.vbar(x=dodge('dynamics', -0.27, range=snake_hist.x_range), top='PyBullet', width=0.1655, source=source,\n",
    "       color=c4[1], legend=value(\"PyBullet\"))\n",
    "\n",
    "snake_hist.vbar(x=dodge('dynamics',  -0.09,  range=snake_hist.x_range), top='RBDL', width=0.1655, source=source,\n",
    "       color=c4[3], legend=value(\"RBDL\"))\n",
    "\n",
    "snake_hist.vbar(x=dodge('dynamics',  0.09, range=snake_hist.x_range), top='u2c', width=0.1655, source=source,\n",
    "       color=c4[0], legend=value(\"u2c\"))\n",
    "\n",
    "snake_hist.vbar(x=dodge('dynamics',  0.27, range=snake_hist.x_range), top='KDL', width=0.1655, source=source,\n",
    "       color = c4[2], legend=value(\"KDL\"))\n",
    "\n",
    "snake_hist.x_range.range_padding = 0.\n",
    "snake_hist.xgrid.grid_line_color = None\n",
    "snake_hist.legend.location = \"top_left\"\n",
    "snake_hist.legend.orientation = \"horizontal\"\n",
    "snake_hist.yaxis.axis_label = 'median evaluation time [us]'\n",
    "snake_hist.axis.minor_tick_line_color = None\n",
    "#snake_hist.yaxis.axis_label = 'computation time [us]'\n",
    "#show(snake_hist)\n",
    "export_png(snake_hist, filename=\"plots/snake_hist_60.png\")"
   ]
  },
  {
   "cell_type": "markdown",
   "metadata": {},
   "source": [
    "# Library plots:\n",
    "## u2c:"
   ]
  },
  {
   "cell_type": "code",
   "execution_count": 31,
   "metadata": {},
   "outputs": [],
   "source": [
    "c5 = [\"#D58EAF\", \"#6B949E\", \"#FFF3AA\"]\n",
    "c4 = [\"#B15983\", \"#447784\", \"#D4C56A\"]\n",
    "c3 = [\"#8E2F5C\", \"#255C69\", \"#AA9A39\"]\n",
    "c2 = [\"#6A123C\", \"#0F434F\", \"#807015\"]"
   ]
  },
  {
   "cell_type": "code",
   "execution_count": 14,
   "metadata": {},
   "outputs": [
    {
     "data": {
      "text/plain": [
       "'/home/lillmaria/urdf2casadi/examples/timing/robot_comparison/plots/u2c_rnea.png'"
      ]
     },
     "execution_count": 14,
     "metadata": {},
     "output_type": "execute_result"
    }
   ],
   "source": [
    "output_file(\"dodged_bars.html\")\n",
    "\n",
    "dynamics = ['pendulum', 'UR5', 'snake']\n",
    "libraries = ['G', 'C', 'ID']\n",
    "\n",
    "data = {'dynamics' : dynamics,\n",
    "        'G'   : [pendulum_g_u2c, ur5_g_u2c, snake_g_u2c],\n",
    "        'C'   : [pendulum_c_u2c, ur5_c_u2c, snake_c_u2c],\n",
    "        'ID'   : [pendulum_id_u2c, ur5_id_u2c, snake_id_u2c]}\n",
    "        #'KDL'   : [pendulum_g_kdl, pendulum_C_kdl, 0, pendulum_M_kdl, 0]}\n",
    "\n",
    "\n",
    "source = ColumnDataSource(data=data)\n",
    "\n",
    "u2c_rnea = figure(x_range=dynamics, y_range=(0, 60), plot_height=240, title= \"u2c\",\n",
    "           toolbar_location=None, tools=\"\", plot_width = 680)\n",
    "\n",
    "u2c_rnea.vbar(x=dodge('dynamics', -0.125, range=u2c_rnea.x_range), top='G', width=0.125, source=source,\n",
    "       color=c4[2], legend=value(\"G\"))\n",
    "\n",
    "u2c_rnea.vbar(x=dodge('dynamics',  -0.0,  range=u2c_rnea.x_range), top='C', width=0.125, source=source,\n",
    "       color=c4[1], legend=value(\"C\"))\n",
    "\n",
    "u2c_rnea.vbar(x=dodge('dynamics',  0.125, range=u2c_rnea.x_range), top='ID', width=0.125, source=source,\n",
    "       color=c4[0], legend=value(\"ID\"))\n",
    "\n",
    "#u2c_rnea.vbar(x=dodge('dynamics',  0.30, range=u2c_rnea.x_range), top='KDL', width=0.15, source=source,\n",
    "#       color = palette2[3], legend=value(\"KDL\"))\n",
    "\n",
    "#labels = LabelSet(x='dynamics', level='glyph',\n",
    "#        x_offset=-13.5, y_offset=0, source=source, render_mode='canvas')\n",
    "\n",
    "u2c_rnea.x_range.range_padding = 0.\n",
    "u2c_rnea.xgrid.grid_line_color = None\n",
    "u2c_rnea.legend.location = \"top_left\"\n",
    "u2c_rnea.legend.orientation = \"horizontal\"\n",
    "u2c_rnea.yaxis.axis_label = 'median evaluation time [us]'\n",
    "u2c_rnea.axis.minor_tick_line_color = None\n",
    "#u2c_rnea.yaxis.axis_label = 'computation time [us]'\n",
    "#show(u2c_rnea)\n",
    "export_png(u2c_rnea, filename=\"plots/u2c_rnea.png\")\n"
   ]
  },
  {
   "cell_type": "code",
   "execution_count": 15,
   "metadata": {},
   "outputs": [
    {
     "data": {
      "text/plain": [
       "'/home/lillmaria/urdf2casadi/examples/timing/robot_comparison/plots/rbdl_rnea.png'"
      ]
     },
     "execution_count": 15,
     "metadata": {},
     "output_type": "execute_result"
    }
   ],
   "source": [
    "output_file(\"dodged_bars.html\")\n",
    "\n",
    "dynamics = ['pendulum', 'UR5', 'snake']\n",
    "libraries = ['G', 'C', 'ID']\n",
    "\n",
    "data = {'dynamics' : dynamics,\n",
    "        'G'   : [pendulum_g_rbdl, ur5_g_rbdl, snake_g_rbdl],\n",
    "        'C'   : [pendulum_c_rbdl, ur5_c_rbdl, snake_c_rbdl],\n",
    "        'ID'   : [pendulum_id_rbdl, ur5_id_rbdl, snake_id_rbdl]}\n",
    "        #'KDL'   : [pendulum_g_kdl, pendulum_C_kdl, 0, pendulum_M_kdl, 0]}\n",
    "\n",
    "\n",
    "source = ColumnDataSource(data=data)\n",
    "\n",
    "rbdl_rnea = figure(x_range=dynamics, y_range=(0, 40), plot_height=240, title= \"RBDL\",\n",
    "           toolbar_location=None, tools=\"\", plot_width = 680)\n",
    "\n",
    "rbdl_rnea.vbar(x=dodge('dynamics', -0.125, range=rbdl_rnea.x_range), top='G', width=0.125, source=source,\n",
    "       color=c4[2], legend=value(\"G\"))\n",
    "\n",
    "rbdl_rnea.vbar(x=dodge('dynamics',  -0.0,  range=rbdl_rnea.x_range), top='C', width=0.125, source=source,\n",
    "       color=c4[1], legend=value(\"C\"))\n",
    "\n",
    "rbdl_rnea.vbar(x=dodge('dynamics',  0.125, range=rbdl_rnea.x_range), top='ID', width=0.125, source=source,\n",
    "       color=c4[0], legend=value(\"ID\"))\n",
    "\n",
    "#rbdl_rnea.vbar(x=dodge('dynamics',  0.30, range=rbdl_rnea.x_range), top='KDL', width=0.15, source=source,\n",
    "#       color = palette2[3], legend=value(\"KDL\"))\n",
    "\n",
    "#labels = LabelSet(x='dynamics', level='glyph',\n",
    "#        x_offset=-13.5, y_offset=0, source=source, render_mode='canvas')\n",
    "\n",
    "rbdl_rnea.x_range.range_padding = 0.\n",
    "rbdl_rnea.xgrid.grid_line_color = None\n",
    "rbdl_rnea.legend.location = \"top_left\"\n",
    "rbdl_rnea.legend.orientation = \"horizontal\"\n",
    "rbdl_rnea.yaxis.axis_label = 'median evaluation time [us]'\n",
    "rbdl_rnea.axis.minor_tick_line_color = None\n",
    "#rbdl_rnea.yaxis.axis_label = 'computation time [us]'\n",
    "#show(rbdl_rnea)\n",
    "export_png(rbdl_rnea, filename=\"plots/rbdl_rnea.png\")\n"
   ]
  },
  {
   "cell_type": "code",
   "execution_count": 16,
   "metadata": {},
   "outputs": [
    {
     "data": {
      "text/plain": [
       "'/home/lillmaria/urdf2casadi/examples/timing/robot_comparison/plots/pb_rnea.png'"
      ]
     },
     "execution_count": 16,
     "metadata": {},
     "output_type": "execute_result"
    }
   ],
   "source": [
    "output_file(\"dodged_bars.html\")\n",
    "\n",
    "dynamics = ['pendulum', 'UR5', 'snake']\n",
    "libraries = ['G', 'C', 'ID']\n",
    "\n",
    "data = {'dynamics' : dynamics,\n",
    "        'G'   : [pendulum_g_pb, ur5_g_pb, snake_g_pb],\n",
    "        'C'   : [pendulum_c_pb, ur5_c_pb, snake_c_pb],\n",
    "        'ID'   : [pendulum_id_pb, ur5_id_pb, snake_id_pb]}\n",
    "        #'KDL'   : [pendulum_g_kdl, pendulum_C_kdl, 0, pendulum_M_kdl, 0]}\n",
    "\n",
    "\n",
    "source = ColumnDataSource(data=data)\n",
    "\n",
    "pb_rnea = figure(x_range=dynamics, y_range=(0, 30), plot_height=240, title= \"PyBullet\",\n",
    "           toolbar_location=None, tools=\"\", plot_width = 680)\n",
    "\n",
    "pb_rnea.vbar(x=dodge('dynamics', -0.125, range=pb_rnea.x_range), top='G', width=0.125, source=source,\n",
    "       color=c4[2], legend=value(\"G\"))\n",
    "\n",
    "pb_rnea.vbar(x=dodge('dynamics',  0.,  range=pb_rnea.x_range), top='C', width=0.125, source=source,\n",
    "       color=c4[1], legend=value(\"C\"))\n",
    "\n",
    "pb_rnea.vbar(x=dodge('dynamics',  0.125, range=pb_rnea.x_range), top='ID', width=0.125, source=source,\n",
    "       color=c4[0], legend=value(\"ID\"))\n",
    "\n",
    "#pb_rnea.vbar(x=dodge('dynamics',  0.30, range=pb_rnea.x_range), top='KDL', width=0.15, source=source,\n",
    "#       color = palette2[3], legend=value(\"KDL\"))\n",
    "\n",
    "#labels = LabelSet(x='dynamics', level='glyph',\n",
    "#        x_offset=-13.5, y_offset=0, source=source, render_mode='canvas')\n",
    "\n",
    "pb_rnea.x_range.range_padding = 0.\n",
    "pb_rnea.xgrid.grid_line_color = None\n",
    "pb_rnea.legend.location = \"top_left\"\n",
    "pb_rnea.legend.orientation = \"horizontal\"\n",
    "pb_rnea.yaxis.axis_label = 'median evaluation time [us]'\n",
    "pb_rnea.axis.minor_tick_line_color = None\n",
    "#pb_rnea.yaxis.axis_label = 'computation time [us]'\n",
    "#show(pb_rnea)\n",
    "export_png(pb_rnea, filename=\"plots/pb_rnea.png\")\n"
   ]
  },
  {
   "cell_type": "code",
   "execution_count": 33,
   "metadata": {},
   "outputs": [
    {
     "data": {
      "text/plain": [
       "'/home/lillmaria/urdf2casadi/examples/timing/robot_comparison/plots/kdl_rnea35.png'"
      ]
     },
     "execution_count": 33,
     "metadata": {},
     "output_type": "execute_result"
    }
   ],
   "source": [
    "output_file(\"dodged_bars.html\")\n",
    "\n",
    "dynamics = ['pendulum', 'UR5', 'snake']\n",
    "libraries = ['G', 'C', 'ID']\n",
    "\n",
    "data = {'dynamics' : dynamics,\n",
    "        'G'   : [pendulum_g_kdl, ur5_g_kdl, snake_g_kdl],\n",
    "        'C'   : [pendulum_c_kdl, ur5_c_kdl, snake_c_kdl]}\n",
    "        #'KDL'   : [pendulum_g_kdl, pendulum_C_kdl, 0, pendulum_M_kdl, 0]}\n",
    "\n",
    "\n",
    "source = ColumnDataSource(data=data)\n",
    "\n",
    "kdl_rnea = figure(x_range=dynamics, y_range=(0, 35), plot_height=240, title= \"KDL\",\n",
    "           toolbar_location=None, tools=\"\", plot_width = 680)\n",
    "\n",
    "kdl_rnea.vbar(x=dodge('dynamics', 0.065, range=kdl_rnea.x_range), top='G', width=0.125, source=source,\n",
    "       color=c4[2], legend=value(\"G\"))\n",
    "\n",
    "kdl_rnea.vbar(x=dodge('dynamics',  -0.065,  range=kdl_rnea.x_range), top='C', width=0.125, source=source,\n",
    "       color=c4[1], legend=value(\"C\"))\n",
    "\n",
    "\n",
    "kdl_rnea.x_range.range_padding = 0.\n",
    "kdl_rnea.xgrid.grid_line_color = None\n",
    "kdl_rnea.legend.location = \"top_left\"\n",
    "kdl_rnea.legend.orientation = \"horizontal\"\n",
    "kdl_rnea.yaxis.axis_label = 'median evaluation time [us]'\n",
    "kdl_rnea.axis.minor_tick_line_color = None\n",
    "#kdl_rnea.yaxis.axis_label = 'computation time [us]'\n",
    "#show(kdl_rnea)\n",
    "export_png(kdl_rnea, filename=\"plots/kdl_rnea35.png\")\n"
   ]
  },
  {
   "cell_type": "code",
   "execution_count": 25,
   "metadata": {},
   "outputs": [],
   "source": [
    "#colors dynamics \n",
    "c4 = [\"#88468A\", \"#D4876A\", \"#555794\", '#BDCE67', \"#499371\", '#D4B96A']\n",
    "\n",
    "c5 = [\"#A46FA6\", \"#D4876A\", \"#7F81B2\", '#BDCE67', \"#499371\", '#D4B96A']\n"
   ]
  },
  {
   "cell_type": "markdown",
   "metadata": {},
   "source": [
    "# Dynamics per library"
   ]
  },
  {
   "cell_type": "code",
   "execution_count": 26,
   "metadata": {},
   "outputs": [
    {
     "data": {
      "text/plain": [
       "'/home/lillmaria/urdf2casadi/examples/timing/robot_comparison/plots/u2c_dynamics.png'"
      ]
     },
     "execution_count": 26,
     "metadata": {},
     "output_type": "execute_result"
    }
   ],
   "source": [
    "output_file(\"dodged_bars.html\")\n",
    "\n",
    "dynamics = ['pendulum', 'UR5', 'snake']\n",
    "libraries = ['G', 'C', 'ID', 'M', 'FD(CRBA)', 'FD(ABA)' ]\n",
    "\n",
    "data = {'dynamics' : dynamics,\n",
    "        'G'   : [pendulum_g_u2c, ur5_g_u2c, snake_g_u2c],\n",
    "        'C'   : [pendulum_c_u2c, ur5_c_u2c, snake_c_u2c],\n",
    "        'ID'   : [pendulum_id_u2c, ur5_id_u2c, snake_id_u2c],\n",
    "        'M'   : [pendulum_m_u2c, ur5_m_u2c, snake_m_u2c],\n",
    "        'FD(ABA)'   : [pendulum_fd_aba_u2c, ur5_fd_aba_u2c, snake_fd_aba_u2c],\n",
    "        'FD(CRBA)'   : [pendulum_fd_crba_u2c, ur5_fd_crba_u2c, snake_fd_crba_u2c],}\n",
    "\n",
    "\n",
    "source = ColumnDataSource(data=data)\n",
    "\n",
    "u2c_dynamics = figure(x_range=dynamics, y_range=(0, 70), plot_height=240, title= \"u2c\",\n",
    "           toolbar_location=None, tools=\"\", plot_width = 720)\n",
    "\n",
    "u2c_dynamics.vbar(x=dodge('dynamics', -0.2903, range=u2c_dynamics.x_range), top='G', width=0.11, source=source,\n",
    "       color=c4[3], legend=value(\"G\"))\n",
    "\n",
    "u2c_dynamics.vbar(x=dodge('dynamics',  -0.17433,  range=u2c_dynamics.x_range), top='C', width=0.11, source=source,\n",
    "       color=c4[4], legend=value(\"C\"))\n",
    "\n",
    "u2c_dynamics.vbar(x=dodge('dynamics',  -0.05833, range=u2c_dynamics.x_range), top='ID', width=0.11, source=source,\n",
    "       color=c4[5], legend=value(\"ID\"))\n",
    "\n",
    "u2c_dynamics.vbar(x=dodge('dynamics',  0.05833, range=u2c_dynamics.x_range), top='M', width=0.11, source=source,\n",
    "       color = c4[1], legend=value(\"M\"))\n",
    "\n",
    "u2c_dynamics.vbar(x=dodge('dynamics',  0.17433, range=u2c_dynamics.x_range), top='FD(ABA)', width=0.11, source=source,\n",
    "       color = c4[0], legend=value(\"FD(ABA)\"))\n",
    "\n",
    "u2c_dynamics.vbar(x=dodge('dynamics',  0.2903, range=u2c_dynamics.x_range), top='FD(CRBA)', width=0.11, source=source,\n",
    "       color = c4[2], legend=value(\"FD(CRBA)\"))\n",
    "\n",
    "#labels = LabelSet(x='dynamics', level='glyph',\n",
    "#        x_offset=-13.5, y_offset=0, source=source, render_mode='canvas')\n",
    "\n",
    "u2c_dynamics.x_range.range_padding = 0.\n",
    "u2c_dynamics.xgrid.grid_line_color = None\n",
    "u2c_dynamics.legend.location = \"top_left\"\n",
    "u2c_dynamics.legend.orientation = \"horizontal\"\n",
    "u2c_dynamics.yaxis.axis_label = 'median evaluation time [us]'\n",
    "u2c_dynamics.axis.minor_tick_line_color = None\n",
    "#u2c_dynamics.yaxis.axis_label = 'computation time [us]'\n",
    "#show(u2c_dynamics)\n",
    "export_png(u2c_dynamics, filename=\"plots/u2c_dynamics.png\")\n"
   ]
  },
  {
   "cell_type": "code",
   "execution_count": 27,
   "metadata": {},
   "outputs": [
    {
     "data": {
      "text/plain": [
       "'/home/lillmaria/urdf2casadi/examples/timing/robot_comparison/plots/rbdl_dynamics.png'"
      ]
     },
     "execution_count": 27,
     "metadata": {},
     "output_type": "execute_result"
    }
   ],
   "source": [
    "output_file(\"dodged_bars.html\")\n",
    "\n",
    "dynamics = ['pendulum', 'UR5', 'snake']\n",
    "libraries = ['G', 'C', 'ID', 'M', 'FD(CRBA)', 'FD(ABA)' ]\n",
    "\n",
    "data = {'dynamics' : dynamics,\n",
    "        'G'   : [pendulum_g_rbdl, ur5_g_rbdl, snake_g_rbdl],\n",
    "        'C'   : [pendulum_c_rbdl, ur5_c_rbdl, snake_c_rbdl],\n",
    "        'ID'   : [pendulum_id_rbdl, ur5_id_rbdl, snake_id_rbdl],\n",
    "        'M'   : [pendulum_m_rbdl, ur5_m_rbdl, snake_m_rbdl],\n",
    "        'FD'   : [pendulum_fd_rbdl, ur5_fd_rbdl, snake_fd_rbdl]}\n",
    "        #'FD(CRBA)'   : [pendulum_fd_crba_rbdl, ur5_fd_crba_rbdl, snake_fd_crba_rbdl],}\n",
    "\n",
    "\n",
    "source = ColumnDataSource(data=data)\n",
    "\n",
    "rbdl_dynamics = figure(x_range=dynamics, y_range=(0, 35), plot_height=240, title= \"RBDL\",\n",
    "           toolbar_location=None, tools=\"\", plot_width = 720)\n",
    "\n",
    "rbdl_dynamics.vbar(x=dodge('dynamics', -0.232, range=rbdl_dynamics.x_range), top='G', width=0.11, source=source,\n",
    "       color=c4[3], legend=value(\"G\"))\n",
    "\n",
    "rbdl_dynamics.vbar(x=dodge('dynamics',  -0.116,  range=rbdl_dynamics.x_range), top='C', width=0.11, source=source,\n",
    "       color=c4[4], legend=value(\"C\"))\n",
    "\n",
    "rbdl_dynamics.vbar(x=dodge('dynamics',  -0.0, range=rbdl_dynamics.x_range), top='ID', width=0.11, source=source,\n",
    "       color=c4[5], legend=value(\"ID\"))\n",
    "\n",
    "rbdl_dynamics.vbar(x=dodge('dynamics',  0.116, range=rbdl_dynamics.x_range), top='M', width=0.11, source=source,\n",
    "       color = c4[1], legend=value(\"M\"))\n",
    "\n",
    "rbdl_dynamics.vbar(x=dodge('dynamics',  0.232, range=rbdl_dynamics.x_range), top='FD', width=0.11, source=source,\n",
    "       color = c4[0], legend=value(\"FD\"))\n",
    "\n",
    "#rbdl_dynamics.vbar(x=dodge('dynamics',  0.2903, range=rbdl_dynamics.x_range), top='FD(CRBA)', width=0.11, source=source,\n",
    "#       color = c4[2], legend=value(\"FD(CRBA)\"))\n",
    "\n",
    "#labels = LabelSet(x='dynamics', level='glyph',\n",
    "#        x_offset=-13.5, y_offset=0, source=source, render_mode='canvas')\n",
    "\n",
    "rbdl_dynamics.x_range.range_padding = 0.\n",
    "rbdl_dynamics.xgrid.grid_line_color = None\n",
    "rbdl_dynamics.legend.location = \"top_left\"\n",
    "rbdl_dynamics.legend.orientation = \"horizontal\"\n",
    "rbdl_dynamics.yaxis.axis_label = 'median evaluation time [us]'\n",
    "rbdl_dynamics.axis.minor_tick_line_color = None\n",
    "#rbdl_dynamics.yaxis.axis_label = 'computation time [us]'\n",
    "#show(rbdl_dynamics)\n",
    "export_png(rbdl_dynamics, filename=\"plots/rbdl_dynamics.png\")\n"
   ]
  },
  {
   "cell_type": "code",
   "execution_count": 28,
   "metadata": {},
   "outputs": [
    {
     "data": {
      "text/plain": [
       "'/home/lillmaria/urdf2casadi/examples/timing/robot_comparison/plots/pb_dynamics.png'"
      ]
     },
     "execution_count": 28,
     "metadata": {},
     "output_type": "execute_result"
    }
   ],
   "source": [
    "output_file(\"dodged_bars.html\")\n",
    "\n",
    "dynamics = ['pendulum', 'UR5', 'snake']\n",
    "libraries = ['G', 'C', 'ID', 'M', 'FD(CRBA)', 'FD(ABA)' ]\n",
    "\n",
    "data = {'dynamics' : dynamics,\n",
    "        'G'   : [pendulum_g_pb, ur5_g_pb, snake_g_pb],\n",
    "        'C'   : [pendulum_c_pb, ur5_c_pb, snake_c_pb],\n",
    "        'ID'   : [pendulum_id_pb, ur5_id_pb, snake_id_pb],\n",
    "        'M'   : [pendulum_m_pb, ur5_m_pb, snake_m_pb]}\n",
    "\n",
    "\n",
    "source = ColumnDataSource(data=data)\n",
    "\n",
    "pb_dynamics = figure(x_range=dynamics, y_range=(0, 30), plot_height=240, title= \"PyBullet\",\n",
    "           toolbar_location=None, tools=\"\", plot_width = 720)\n",
    "\n",
    "pb_dynamics.vbar(x=dodge('dynamics', -0.17433, range=pb_dynamics.x_range), top='G', width=0.11, source=source,\n",
    "       color=c4[3], legend=value(\"G\"))\n",
    "\n",
    "pb_dynamics.vbar(x=dodge('dynamics',  -0.05833,  range=pb_dynamics.x_range), top='C', width=0.11, source=source,\n",
    "       color=c4[4], legend=value(\"C\"))\n",
    "\n",
    "pb_dynamics.vbar(x=dodge('dynamics',  0.05833, range=pb_dynamics.x_range), top='ID', width=0.11, source=source,\n",
    "       color=c4[5], legend=value(\"ID\"))\n",
    "\n",
    "pb_dynamics.vbar(x=dodge('dynamics',  0.17433, range=pb_dynamics.x_range), top='M', width=0.11, source=source,\n",
    "       color = c4[1], legend=value(\"M\"))\n",
    "\n",
    "\n",
    "#pb_dynamics.vbar(x=dodge('dynamics',  0.2903, range=pb_dynamics.x_range), top='FD(CRBA)', width=0.11, source=source,\n",
    "#       color = c4[2], legend=value(\"FD(CRBA)\"))\n",
    "\n",
    "#labels = LabelSet(x='dynamics', level='glyph',\n",
    "#        x_offset=-13.5, y_offset=0, source=source, render_mode='canvas')\n",
    "\n",
    "pb_dynamics.x_range.range_padding = 0.\n",
    "pb_dynamics.xgrid.grid_line_color = None\n",
    "pb_dynamics.legend.location = \"top_left\"\n",
    "pb_dynamics.legend.orientation = \"horizontal\"\n",
    "pb_dynamics.yaxis.axis_label = 'median evaluation time [us]'\n",
    "pb_dynamics.axis.minor_tick_line_color = None\n",
    "#pb_dynamics.yaxis.axis_label = 'computation time [us]'\n",
    "#show(pb_dynamics)\n",
    "export_png(pb_dynamics, filename=\"plots/pb_dynamics.png\")\n"
   ]
  },
  {
   "cell_type": "code",
   "execution_count": 29,
   "metadata": {},
   "outputs": [
    {
     "data": {
      "text/plain": [
       "'/home/lillmaria/urdf2casadi/examples/timing/robot_comparison/plots/kdl_dynamics.png'"
      ]
     },
     "execution_count": 29,
     "metadata": {},
     "output_type": "execute_result"
    }
   ],
   "source": [
    "output_file(\"dodged_bars.html\")\n",
    "\n",
    "dynamics = ['pendulum', 'UR5', 'snake']\n",
    "libraries = ['G', 'C', 'ID', 'M', 'FD(CRBA)', 'FD(ABA)' ]\n",
    "\n",
    "data = {'dynamics' : dynamics,\n",
    "        'G'   : [pendulum_g_kdl, ur5_g_kdl, snake_g_kdl],\n",
    "        'C'   : [pendulum_c_kdl, ur5_c_kdl, snake_c_kdl],\n",
    "        'M'   : [pendulum_m_kdl, ur5_m_kdl, snake_m_kdl]}\n",
    "\n",
    "\n",
    "source = ColumnDataSource(data=data)\n",
    "\n",
    "kdl_dynamics = figure(x_range=dynamics, y_range=(0, 30), plot_height=240, title= \"PyBullet\",\n",
    "           toolbar_location=None, tools=\"\", plot_width = 720)\n",
    "\n",
    "kdl_dynamics.vbar(x=dodge('dynamics', -0.1168, range=kdl_dynamics.x_range), top='G', width=0.11, source=source,\n",
    "       color=c4[3], legend=value(\"G\"))\n",
    "\n",
    "kdl_dynamics.vbar(x=dodge('dynamics',  -0.0,  range=kdl_dynamics.x_range), top='C', width=0.11, source=source,\n",
    "       color=c4[4], legend=value(\"C\"))\n",
    "\n",
    "kdl_dynamics.vbar(x=dodge('dynamics',  0.1168, range=kdl_dynamics.x_range), top='M', width=0.11, source=source,\n",
    "       color = c4[1], legend=value(\"M\"))\n",
    "\n",
    "\n",
    "#kdl_dynamics.vbar(x=dodge('dynamics',  0.2903, range=kdl_dynamics.x_range), top='FD(CRBA)', width=0.11, source=source,\n",
    "#       color = c4[2], legend=value(\"FD(CRBA)\"))\n",
    "\n",
    "#labels = LabelSet(x='dynamics', level='glyph',\n",
    "#        x_offset=-13.5, y_offset=0, source=source, render_mode='canvas')\n",
    "\n",
    "kdl_dynamics.x_range.range_padding = 0.\n",
    "kdl_dynamics.xgrid.grid_line_color = None\n",
    "kdl_dynamics.legend.location = \"top_left\"\n",
    "kdl_dynamics.legend.orientation = \"horizontal\"\n",
    "kdl_dynamics.yaxis.axis_label = 'median evaluation time [us]'\n",
    "kdl_dynamics.axis.minor_tick_line_color = None\n",
    "#kdl_dynamics.yaxis.axis_label = 'computation time [us]'\n",
    "#show(kdl_dynamics)\n",
    "export_png(kdl_dynamics, filename=\"plots/kdl_dynamics.png\")\n"
   ]
  },
  {
   "cell_type": "code",
   "execution_count": null,
   "metadata": {},
   "outputs": [],
   "source": []
  }
 ],
 "metadata": {
  "kernelspec": {
   "display_name": "Python 2",
   "language": "python",
   "name": "python2"
  },
  "language_info": {
   "codemirror_mode": {
    "name": "ipython",
    "version": 2
   },
   "file_extension": ".py",
   "mimetype": "text/x-python",
   "name": "python",
   "nbconvert_exporter": "python",
   "pygments_lexer": "ipython2",
   "version": "2.7.12"
  }
 },
 "nbformat": 4,
 "nbformat_minor": 2
}
